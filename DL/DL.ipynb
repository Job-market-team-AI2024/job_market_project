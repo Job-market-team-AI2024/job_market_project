{
 "cells": [
  {
   "cell_type": "markdown",
   "id": "904181c3-6af9-43ff-9612-af0a404c57df",
   "metadata": {},
   "source": [
    "# DL-модели\n",
    "### Команда 4. Вакансии с портала HeadHunter."
   ]
  },
  {
   "cell_type": "code",
   "execution_count": 3,
   "id": "d86868ac-1905-4a4f-8911-36467e0ae550",
   "metadata": {
    "id": "d86868ac-1905-4a4f-8911-36467e0ae550"
   },
   "outputs": [],
   "source": [
    "import pandas as pd\n",
    "import numpy as np\n",
    "import os\n",
    "import requests\n",
    "from sklearn.model_selection import train_test_split\n",
    "from sklearn.compose import ColumnTransformer\n",
    "from sklearn.pipeline import Pipeline\n",
    "from sklearn.preprocessing import StandardScaler, OneHotEncoder\n",
    "from sklearn.feature_extraction.text import CountVectorizer\n",
    "from catboost import CatBoostRegressor\n",
    "from xgboost import XGBRegressor\n",
    "import matplotlib.pyplot as plt\n",
    "import seaborn as sns"
   ]
  },
  {
   "cell_type": "markdown",
   "id": "269b5f94-39c9-4446-890c-f52cc625f771",
   "metadata": {},
   "source": [
    "### Загрузка данных"
   ]
  },
  {
   "cell_type": "code",
   "execution_count": 4,
   "id": "VV0sp9EgMvsG",
   "metadata": {
    "id": "VV0sp9EgMvsG"
   },
   "outputs": [],
   "source": [
    "URL_BASE = 'https://media.githubusercontent.com/media/Job-market-team-AI2024/job_market_project/refs/heads/main/data/'\n",
    "def read_database(file_name):\n",
    "    return pd.read_csv(os.path.join(URL_BASE, file_name))"
   ]
  },
  {
   "cell_type": "code",
   "execution_count": 5,
   "id": "d46fae69-601a-4eea-81f5-fe3f5001c71f",
   "metadata": {
    "id": "d46fae69-601a-4eea-81f5-fe3f5001c71f"
   },
   "outputs": [],
   "source": [
    "df = read_database('IT_vacancies.csv')"
   ]
  },
  {
   "cell_type": "markdown",
   "id": "24e9d276-24e0-4a6f-8952-d917a67cf304",
   "metadata": {
    "id": "24e9d276-24e0-4a6f-8952-d917a67cf304"
   },
   "source": [
    "### Добавление региона и страны вакансии"
   ]
  },
  {
   "cell_type": "code",
   "execution_count": 7,
   "id": "85663ddb-48bf-4c16-9a41-4182a5705780",
   "metadata": {
    "id": "85663ddb-48bf-4c16-9a41-4182a5705780"
   },
   "outputs": [],
   "source": [
    "def area_transform(entry):\n",
    "    areas_dict = {}\n",
    "    areas_dict[entry['id']] = {'name': entry['name'], 'parent_id': entry['parent_id']}\n",
    "    for area in entry['areas']:\n",
    "        areas_dict.update(area_transform(area))\n",
    "    return areas_dict\n",
    "\n",
    "def area_region(area_id, areas_dict):\n",
    "    if areas_dict[area_id]['parent_id'] is None or areas_dict[areas_dict[area_id]['parent_id']]['parent_id'] is None:\n",
    "        return areas_dict[area_id]['name']\n",
    "    else:\n",
    "        return areas_dict[areas_dict[area_id]['parent_id']]['name']\n",
    "\n",
    "def area_country(area_id, areas_dict):\n",
    "    while areas_dict[area_id]['parent_id'] is not None:\n",
    "        area_id = areas_dict[area_id]['parent_id']\n",
    "    return areas_dict[area_id]['name']"
   ]
  },
  {
   "cell_type": "code",
   "execution_count": 8,
   "id": "78e4f338-768e-47bd-8f42-93406237efe5",
   "metadata": {
    "id": "78e4f338-768e-47bd-8f42-93406237efe5"
   },
   "outputs": [],
   "source": [
    "areas = requests.get('https://api.hh.ru/areas').json()\n",
    "\n",
    "areas_dict = {}\n",
    "\n",
    "for area in areas:\n",
    "    areas_dict.update(area_transform(area))"
   ]
  },
  {
   "cell_type": "code",
   "execution_count": 9,
   "id": "da7fdb2d-989e-421d-9d83-f14678ab728c",
   "metadata": {
    "id": "da7fdb2d-989e-421d-9d83-f14678ab728c"
   },
   "outputs": [],
   "source": [
    "df['region_name'] = df['area_id'].apply(lambda x: area_region(str(x), areas_dict))\n",
    "df['country_name'] = df['area_id'].apply(lambda x: area_country(str(x), areas_dict))"
   ]
  },
  {
   "cell_type": "markdown",
   "id": "69cf2503-c460-4737-97f5-3154fc7f800b",
   "metadata": {
    "id": "69cf2503-c460-4737-97f5-3154fc7f800b"
   },
   "source": [
    "### Добавление категорей, ролей и грейдов"
   ]
  },
  {
   "cell_type": "code",
   "execution_count": 10,
   "id": "8cbdebf5-ac3b-4ccf-8007-a71c8292f166",
   "metadata": {
    "id": "8cbdebf5-ac3b-4ccf-8007-a71c8292f166"
   },
   "outputs": [],
   "source": [
    "categories = {\n",
    "    'field': [\n",
    "        (\"product\", ['product', 'продуктовый', 'продакт', 'продукта']),\n",
    "        (\"project\", ['project', 'проектов', 'проектный', 'проекта']),\n",
    "        (\"data\", ['data', 'дата', 'данных']),\n",
    "        (\"bi\", ['bi', 'би', 'визуализация']),\n",
    "        (\"business\", ['business', 'бизнес']),\n",
    "        (\"system\", ['system', 'системный']),\n",
    "        (\"technical\", ['qa', 'по', 'программного обеспечения', '1C', '1С', 'технический', 'technical', 'информационной безопасности']),\n",
    "        (\"support\", ['поддержк', 'support']),\n",
    "        (\"design\", ['graphic', 'web', 'графический', 'веб'])\n",
    "    ],\n",
    "    'role': [\n",
    "        (\"developer\", ['developer', 'разработчик', 'программист', 'архитектор', 'architect', 'devops', 'mlops', 'разработка', 'разработку', 'программирование']),\n",
    "        (\"scientist\", ['scientist', 'science', 'саенс']),\n",
    "        (\"analyst\", ['analyst', 'analysis', 'analytics', 'аналитик']),\n",
    "        (\"consultant\", ['consultant', 'консультант', 'технолог']),\n",
    "        (\"manager\", ['manager', 'lead', 'owner', 'менеджер', 'лид', 'руководитель', 'руководителя', 'оунэр', 'оунер', 'coordinator', 'координатор', 'директор', 'director', 'владелец', 'начальник', 'chief']),\n",
    "        (\"tester\", ['тестировщик', 'qa', 'автоматизатор тестирования', 'tester']),\n",
    "        (\"engineer\", ['engineer', 'инженер']),\n",
    "        (\"specialist\", ['specialist', 'operator', 'support', 'специалист', 'оператор', 'писатель', 'мастер', 'эксперт', 'поддержки', 'поддержка']),\n",
    "        (\"designer\", ['design', 'designer', 'дизайн', 'дизайнер', 'artist', 'художник']),\n",
    "        (\"admin\", ['администратор'])\n",
    "    ],\n",
    "    'grade': [\n",
    "        (\"intern\", ['intern', 'стажер']),\n",
    "        (\"junior\", ['junior', 'младший']),\n",
    "        (\"middle\", ['middle', 'ведущий']),\n",
    "        (\"senior\", ['senior', 'старший']),\n",
    "        (\"lead\", ['lead', 'руководитель', 'начальник'])\n",
    "    ]\n",
    "}\n",
    "\n",
    "# Функция для поиска категорий\n",
    "def find_categories(name, categories):\n",
    "    return [category for category, elements in categories if any(el.lower() in name.lower() for el in elements)]\n",
    "\n",
    "# Применение функции к DataFrame\n",
    "for category_type, category_list in categories.items():\n",
    "    df[f'{category_type}s'] = df['name'].apply(lambda x: find_categories(x, category_list))\n",
    "    df[category_type] = df[f'{category_type}s'].apply(lambda x: ' '.join(x))"
   ]
  },
  {
   "cell_type": "markdown",
   "id": "085af847-8b07-4b13-a7a5-c30a6b1f58f1",
   "metadata": {},
   "source": [
    "### Зарплата"
   ]
  },
  {
   "cell_type": "code",
   "execution_count": 11,
   "id": "ee879b36-b06b-4e2e-9f05-751084fd379c",
   "metadata": {
    "id": "ee879b36-b06b-4e2e-9f05-751084fd379c"
   },
   "outputs": [],
   "source": [
    "df['salary'] = df[['salary_from', 'salary_to']].mean(axis=1)"
   ]
  },
  {
   "cell_type": "markdown",
   "id": "88c7e5ae-9b72-42e9-a192-12ed12ffa376",
   "metadata": {
    "id": "88c7e5ae-9b72-42e9-a192-12ed12ffa376"
   },
   "source": [
    "### Ограничения на страну + удаление выбросов в зарплатах"
   ]
  },
  {
   "cell_type": "code",
   "execution_count": 12,
   "id": "815201b4-20a1-4a82-b8ce-e4a3d1412a4d",
   "metadata": {
    "id": "815201b4-20a1-4a82-b8ce-e4a3d1412a4d"
   },
   "outputs": [],
   "source": [
    "df = df[df['country_name'] == 'Россия']\n",
    "\n",
    "df = df[~df['salary'].isnull()]\n",
    "df = df[df['salary_currency'] == 'RUR']\n",
    "\n",
    "df = df[df['salary'] > np.quantile(df['salary'],0.005)]\n",
    "df = df[df['salary'] < np.quantile(df['salary'],0.995)]"
   ]
  },
  {
   "cell_type": "markdown",
   "id": "ee0b4963-455c-465c-b712-ac6714ffbf07",
   "metadata": {},
   "source": [
    "### Разделим данные на целевую переменную и признаки"
   ]
  },
  {
   "cell_type": "code",
   "execution_count": 13,
   "id": "30a8e5a1-e4b9-4769-b1b6-b52cf8e7b592",
   "metadata": {
    "id": "30a8e5a1-e4b9-4769-b1b6-b52cf8e7b592"
   },
   "outputs": [],
   "source": [
    "X = df.drop(columns=['salary_from', 'salary_to', 'salary'])\n",
    "y = df['salary']"
   ]
  },
  {
   "cell_type": "markdown",
   "id": "d551e21d-33f4-497e-8bf5-9d1f40cfd8a0",
   "metadata": {
    "id": "d551e21d-33f4-497e-8bf5-9d1f40cfd8a0"
   },
   "source": [
    "### Удаление пропусков"
   ]
  },
  {
   "cell_type": "code",
   "execution_count": 14,
   "id": "973a1e39-290b-46e7-b7ea-ce19f32b1e20",
   "metadata": {
    "colab": {
     "base_uri": "https://localhost:8080/"
    },
    "id": "973a1e39-290b-46e7-b7ea-ce19f32b1e20",
    "outputId": "1b13adbc-6669-4996-d7b7-b9e076d102d8"
   },
   "outputs": [
    {
     "name": "stderr",
     "output_type": "stream",
     "text": [
      "/var/folders/fr/sm3p1z5134n_22q36lgf_lc80000gn/T/ipykernel_79573/1094086166.py:2: FutureWarning: Downcasting object dtype arrays on .fillna, .ffill, .bfill is deprecated and will change in a future version. Call result.infer_objects(copy=False) instead. To opt-in to the future behavior, set `pd.set_option('future.no_silent_downcasting', True)`\n",
      "  X['accredited_it_employer'] = X['accredited_it_employer'].fillna(False)\n"
     ]
    }
   ],
   "source": [
    "X['key_skills'] = X['key_skills'].fillna('')\n",
    "X['accredited_it_employer'] = X['accredited_it_employer'].fillna(False)"
   ]
  },
  {
   "cell_type": "markdown",
   "id": "c65b3db9-d99c-4cf3-bcdf-8260728df9f6",
   "metadata": {
    "id": "c65b3db9-d99c-4cf3-bcdf-8260728df9f6"
   },
   "source": [
    "### Разделение на трейн и тест"
   ]
  },
  {
   "cell_type": "code",
   "execution_count": 15,
   "id": "ccdd920c-14d5-44dc-b280-eb1f84baed0a",
   "metadata": {
    "id": "ccdd920c-14d5-44dc-b280-eb1f84baed0a"
   },
   "outputs": [],
   "source": [
    "X_train, X_test, y_train, y_test = train_test_split(X, y, test_size=0.25, random_state=42)"
   ]
  },
  {
   "cell_type": "markdown",
   "id": "702498df-4823-4616-9dc0-e2b5cbd7e343",
   "metadata": {
    "id": "702498df-4823-4616-9dc0-e2b5cbd7e343"
   },
   "source": [
    "### Выделение групп признаков"
   ]
  },
  {
   "cell_type": "code",
   "execution_count": 17,
   "id": "dd9a7a60-035b-44f4-8712-6f23238565f7",
   "metadata": {
    "id": "dd9a7a60-035b-44f4-8712-6f23238565f7"
   },
   "outputs": [],
   "source": [
    "cat_features = ['area_name', 'region_name', 'experience', 'employer_name', 'schedule', 'employment', 'field', 'role', 'grade',\n",
    "                'professional_roles_name', 'accredited_it_employer', 'has_test', 'billing_type', 'allow_messages',\n",
    "                'accept_temporary', 'response_letter_required', 'accept_incomplete_resumes'\n",
    "               ]\n",
    "\n",
    "num_features = ['count_key_skills']"
   ]
  },
  {
   "cell_type": "markdown",
   "id": "fc5a1607-5d19-43b2-b4b7-59491e038773",
   "metadata": {
    "id": "fc5a1607-5d19-43b2-b4b7-59491e038773"
   },
   "source": [
    "### Метрики качества"
   ]
  },
  {
   "cell_type": "code",
   "execution_count": 16,
   "id": "f4b3a348-477b-4840-b646-e9c5bf2f2e82",
   "metadata": {
    "id": "f4b3a348-477b-4840-b646-e9c5bf2f2e82"
   },
   "outputs": [],
   "source": [
    "def MAPE(y_true, y_pred):\n",
    "  \"\"\"\n",
    "  Compute Mean Absolute Percentage Error (MAPE)\n",
    "\n",
    "  Input:\n",
    "  y_true (array-like): Actual target values\n",
    "  y_pred (array-like): Predicted target values\n",
    "\n",
    "  Returns:\n",
    "  float: MAPE as a percentage\n",
    "  \"\"\"\n",
    "  y_true = np.array(y_true)\n",
    "  y_pred = np.array(y_pred)\n",
    "\n",
    "  ### избегаем нули, чтобы корректно отработало\n",
    "  non_zero_mask = y_true != 0\n",
    "  percentage_errors = np.abs((y_true[non_zero_mask] - y_pred[non_zero_mask]) / y_true[non_zero_mask])\n",
    "  return np.mean(percentage_errors) * 100"
   ]
  },
  {
   "cell_type": "code",
   "execution_count": 18,
   "id": "89458f9a-9d64-4935-ace9-11e071baf505",
   "metadata": {
    "id": "89458f9a-9d64-4935-ace9-11e071baf505"
   },
   "outputs": [],
   "source": [
    "def share_within_indifference_interval(y_true, y_pred, percentage):\n",
    "  \"\"\"\n",
    "  Share of predicted targets within percentage interval of true targets\n",
    "\n",
    "  Input:\n",
    "  y_true (array-like): Actual target values\n",
    "  y_pred (array-like): Predicted target values\n",
    "\n",
    "  Returns:\n",
    "  float: Share as percentage\n",
    "  \"\"\"\n",
    "  x = (y_pred - y_true) / y_true\n",
    "  return ((x <= percentage / 100) & (x >= -percentage / 100)).mean() * 100"
   ]
  },
  {
   "cell_type": "markdown",
   "id": "bd7cf06e",
   "metadata": {},
   "source": [
    "### DL"
   ]
  },
  {
   "cell_type": "code",
   "execution_count": 61,
   "id": "8bc3a5b1",
   "metadata": {},
   "outputs": [],
   "source": [
    "import tensorflow as tf\n",
    "\n",
    "def mape_tf(y_true, y_pred):\n",
    "    epsilon = tf.keras.backend.epsilon()\n",
    "    y_true = tf.maximum(tf.abs(y_true), epsilon)  \n",
    "    return tf.reduce_mean(tf.abs((y_true - y_pred) / y_true)) * 100\n"
   ]
  },
  {
   "cell_type": "code",
   "execution_count": 62,
   "id": "b5b4fed2",
   "metadata": {},
   "outputs": [],
   "source": [
    "import pandas as pd\n",
    "import numpy as np\n",
    "from sklearn.model_selection import train_test_split\n",
    "from tensorflow.keras.layers import Input, Embedding, Dense, LSTM, concatenate, Dropout\n",
    "from tensorflow.keras.models import Model\n",
    "from tensorflow.keras.preprocessing.text import Tokenizer\n",
    "from tensorflow.keras.preprocessing.sequence import pad_sequences\n"
   ]
  },
  {
   "cell_type": "code",
   "execution_count": null,
   "id": "19c268d0",
   "metadata": {},
   "outputs": [
    {
     "data": {
      "text/html": [
       "<pre style=\"white-space:pre;overflow-x:auto;line-height:normal;font-family:Menlo,'DejaVu Sans Mono',consolas,'Courier New',monospace\"><span style=\"font-weight: bold\">Model: \"functional_8\"</span>\n",
       "</pre>\n"
      ],
      "text/plain": [
       "\u001b[1mModel: \"functional_8\"\u001b[0m\n"
      ]
     },
     "metadata": {},
     "output_type": "display_data"
    },
    {
     "data": {
      "text/html": [
       "<pre style=\"white-space:pre;overflow-x:auto;line-height:normal;font-family:Menlo,'DejaVu Sans Mono',consolas,'Courier New',monospace\">┏━━━━━━━━━━━━━━━━━━━━━┳━━━━━━━━━━━━━━━━━━━┳━━━━━━━━━━━━┳━━━━━━━━━━━━━━━━━━━┓\n",
       "┃<span style=\"font-weight: bold\"> Layer (type)        </span>┃<span style=\"font-weight: bold\"> Output Shape      </span>┃<span style=\"font-weight: bold\">    Param # </span>┃<span style=\"font-weight: bold\"> Connected to      </span>┃\n",
       "┡━━━━━━━━━━━━━━━━━━━━━╇━━━━━━━━━━━━━━━━━━━╇━━━━━━━━━━━━╇━━━━━━━━━━━━━━━━━━━┩\n",
       "│ text_input          │ (<span style=\"color: #00d7ff; text-decoration-color: #00d7ff\">None</span>, <span style=\"color: #00af00; text-decoration-color: #00af00\">200</span>)       │          <span style=\"color: #00af00; text-decoration-color: #00af00\">0</span> │ -                 │\n",
       "│ (<span style=\"color: #0087ff; text-decoration-color: #0087ff\">InputLayer</span>)        │                   │            │                   │\n",
       "├─────────────────────┼───────────────────┼────────────┼───────────────────┤\n",
       "│ embedding_8         │ (<span style=\"color: #00d7ff; text-decoration-color: #00d7ff\">None</span>, <span style=\"color: #00af00; text-decoration-color: #00af00\">200</span>, <span style=\"color: #00af00; text-decoration-color: #00af00\">32</span>)   │    <span style=\"color: #00af00; text-decoration-color: #00af00\">320,000</span> │ text_input[<span style=\"color: #00af00; text-decoration-color: #00af00\">0</span>][<span style=\"color: #00af00; text-decoration-color: #00af00\">0</span>]  │\n",
       "│ (<span style=\"color: #0087ff; text-decoration-color: #0087ff\">Embedding</span>)         │                   │            │                   │\n",
       "├─────────────────────┼───────────────────┼────────────┼───────────────────┤\n",
       "│ num_input           │ (<span style=\"color: #00d7ff; text-decoration-color: #00d7ff\">None</span>, <span style=\"color: #00af00; text-decoration-color: #00af00\">11</span>)        │          <span style=\"color: #00af00; text-decoration-color: #00af00\">0</span> │ -                 │\n",
       "│ (<span style=\"color: #0087ff; text-decoration-color: #0087ff\">InputLayer</span>)        │                   │            │                   │\n",
       "├─────────────────────┼───────────────────┼────────────┼───────────────────┤\n",
       "│ lstm_8 (<span style=\"color: #0087ff; text-decoration-color: #0087ff\">LSTM</span>)       │ (<span style=\"color: #00d7ff; text-decoration-color: #00d7ff\">None</span>, <span style=\"color: #00af00; text-decoration-color: #00af00\">64</span>)        │     <span style=\"color: #00af00; text-decoration-color: #00af00\">24,832</span> │ embedding_8[<span style=\"color: #00af00; text-decoration-color: #00af00\">0</span>][<span style=\"color: #00af00; text-decoration-color: #00af00\">0</span>] │\n",
       "├─────────────────────┼───────────────────┼────────────┼───────────────────┤\n",
       "│ dense_24 (<span style=\"color: #0087ff; text-decoration-color: #0087ff\">Dense</span>)    │ (<span style=\"color: #00d7ff; text-decoration-color: #00d7ff\">None</span>, <span style=\"color: #00af00; text-decoration-color: #00af00\">32</span>)        │        <span style=\"color: #00af00; text-decoration-color: #00af00\">384</span> │ num_input[<span style=\"color: #00af00; text-decoration-color: #00af00\">0</span>][<span style=\"color: #00af00; text-decoration-color: #00af00\">0</span>]   │\n",
       "├─────────────────────┼───────────────────┼────────────┼───────────────────┤\n",
       "│ concatenate_8       │ (<span style=\"color: #00d7ff; text-decoration-color: #00d7ff\">None</span>, <span style=\"color: #00af00; text-decoration-color: #00af00\">96</span>)        │          <span style=\"color: #00af00; text-decoration-color: #00af00\">0</span> │ lstm_8[<span style=\"color: #00af00; text-decoration-color: #00af00\">0</span>][<span style=\"color: #00af00; text-decoration-color: #00af00\">0</span>],     │\n",
       "│ (<span style=\"color: #0087ff; text-decoration-color: #0087ff\">Concatenate</span>)       │                   │            │ dense_24[<span style=\"color: #00af00; text-decoration-color: #00af00\">0</span>][<span style=\"color: #00af00; text-decoration-color: #00af00\">0</span>]    │\n",
       "├─────────────────────┼───────────────────┼────────────┼───────────────────┤\n",
       "│ dense_25 (<span style=\"color: #0087ff; text-decoration-color: #0087ff\">Dense</span>)    │ (<span style=\"color: #00d7ff; text-decoration-color: #00d7ff\">None</span>, <span style=\"color: #00af00; text-decoration-color: #00af00\">64</span>)        │      <span style=\"color: #00af00; text-decoration-color: #00af00\">6,208</span> │ concatenate_8[<span style=\"color: #00af00; text-decoration-color: #00af00\">0</span>]… │\n",
       "├─────────────────────┼───────────────────┼────────────┼───────────────────┤\n",
       "│ dropout_8 (<span style=\"color: #0087ff; text-decoration-color: #0087ff\">Dropout</span>) │ (<span style=\"color: #00d7ff; text-decoration-color: #00d7ff\">None</span>, <span style=\"color: #00af00; text-decoration-color: #00af00\">64</span>)        │          <span style=\"color: #00af00; text-decoration-color: #00af00\">0</span> │ dense_25[<span style=\"color: #00af00; text-decoration-color: #00af00\">0</span>][<span style=\"color: #00af00; text-decoration-color: #00af00\">0</span>]    │\n",
       "├─────────────────────┼───────────────────┼────────────┼───────────────────┤\n",
       "│ dense_26 (<span style=\"color: #0087ff; text-decoration-color: #0087ff\">Dense</span>)    │ (<span style=\"color: #00d7ff; text-decoration-color: #00d7ff\">None</span>, <span style=\"color: #00af00; text-decoration-color: #00af00\">1</span>)         │         <span style=\"color: #00af00; text-decoration-color: #00af00\">65</span> │ dropout_8[<span style=\"color: #00af00; text-decoration-color: #00af00\">0</span>][<span style=\"color: #00af00; text-decoration-color: #00af00\">0</span>]   │\n",
       "└─────────────────────┴───────────────────┴────────────┴───────────────────┘\n",
       "</pre>\n"
      ],
      "text/plain": [
       "┏━━━━━━━━━━━━━━━━━━━━━┳━━━━━━━━━━━━━━━━━━━┳━━━━━━━━━━━━┳━━━━━━━━━━━━━━━━━━━┓\n",
       "┃\u001b[1m \u001b[0m\u001b[1mLayer (type)       \u001b[0m\u001b[1m \u001b[0m┃\u001b[1m \u001b[0m\u001b[1mOutput Shape     \u001b[0m\u001b[1m \u001b[0m┃\u001b[1m \u001b[0m\u001b[1m   Param #\u001b[0m\u001b[1m \u001b[0m┃\u001b[1m \u001b[0m\u001b[1mConnected to     \u001b[0m\u001b[1m \u001b[0m┃\n",
       "┡━━━━━━━━━━━━━━━━━━━━━╇━━━━━━━━━━━━━━━━━━━╇━━━━━━━━━━━━╇━━━━━━━━━━━━━━━━━━━┩\n",
       "│ text_input          │ (\u001b[38;5;45mNone\u001b[0m, \u001b[38;5;34m200\u001b[0m)       │          \u001b[38;5;34m0\u001b[0m │ -                 │\n",
       "│ (\u001b[38;5;33mInputLayer\u001b[0m)        │                   │            │                   │\n",
       "├─────────────────────┼───────────────────┼────────────┼───────────────────┤\n",
       "│ embedding_8         │ (\u001b[38;5;45mNone\u001b[0m, \u001b[38;5;34m200\u001b[0m, \u001b[38;5;34m32\u001b[0m)   │    \u001b[38;5;34m320,000\u001b[0m │ text_input[\u001b[38;5;34m0\u001b[0m][\u001b[38;5;34m0\u001b[0m]  │\n",
       "│ (\u001b[38;5;33mEmbedding\u001b[0m)         │                   │            │                   │\n",
       "├─────────────────────┼───────────────────┼────────────┼───────────────────┤\n",
       "│ num_input           │ (\u001b[38;5;45mNone\u001b[0m, \u001b[38;5;34m11\u001b[0m)        │          \u001b[38;5;34m0\u001b[0m │ -                 │\n",
       "│ (\u001b[38;5;33mInputLayer\u001b[0m)        │                   │            │                   │\n",
       "├─────────────────────┼───────────────────┼────────────┼───────────────────┤\n",
       "│ lstm_8 (\u001b[38;5;33mLSTM\u001b[0m)       │ (\u001b[38;5;45mNone\u001b[0m, \u001b[38;5;34m64\u001b[0m)        │     \u001b[38;5;34m24,832\u001b[0m │ embedding_8[\u001b[38;5;34m0\u001b[0m][\u001b[38;5;34m0\u001b[0m] │\n",
       "├─────────────────────┼───────────────────┼────────────┼───────────────────┤\n",
       "│ dense_24 (\u001b[38;5;33mDense\u001b[0m)    │ (\u001b[38;5;45mNone\u001b[0m, \u001b[38;5;34m32\u001b[0m)        │        \u001b[38;5;34m384\u001b[0m │ num_input[\u001b[38;5;34m0\u001b[0m][\u001b[38;5;34m0\u001b[0m]   │\n",
       "├─────────────────────┼───────────────────┼────────────┼───────────────────┤\n",
       "│ concatenate_8       │ (\u001b[38;5;45mNone\u001b[0m, \u001b[38;5;34m96\u001b[0m)        │          \u001b[38;5;34m0\u001b[0m │ lstm_8[\u001b[38;5;34m0\u001b[0m][\u001b[38;5;34m0\u001b[0m],     │\n",
       "│ (\u001b[38;5;33mConcatenate\u001b[0m)       │                   │            │ dense_24[\u001b[38;5;34m0\u001b[0m][\u001b[38;5;34m0\u001b[0m]    │\n",
       "├─────────────────────┼───────────────────┼────────────┼───────────────────┤\n",
       "│ dense_25 (\u001b[38;5;33mDense\u001b[0m)    │ (\u001b[38;5;45mNone\u001b[0m, \u001b[38;5;34m64\u001b[0m)        │      \u001b[38;5;34m6,208\u001b[0m │ concatenate_8[\u001b[38;5;34m0\u001b[0m]… │\n",
       "├─────────────────────┼───────────────────┼────────────┼───────────────────┤\n",
       "│ dropout_8 (\u001b[38;5;33mDropout\u001b[0m) │ (\u001b[38;5;45mNone\u001b[0m, \u001b[38;5;34m64\u001b[0m)        │          \u001b[38;5;34m0\u001b[0m │ dense_25[\u001b[38;5;34m0\u001b[0m][\u001b[38;5;34m0\u001b[0m]    │\n",
       "├─────────────────────┼───────────────────┼────────────┼───────────────────┤\n",
       "│ dense_26 (\u001b[38;5;33mDense\u001b[0m)    │ (\u001b[38;5;45mNone\u001b[0m, \u001b[38;5;34m1\u001b[0m)         │         \u001b[38;5;34m65\u001b[0m │ dropout_8[\u001b[38;5;34m0\u001b[0m][\u001b[38;5;34m0\u001b[0m]   │\n",
       "└─────────────────────┴───────────────────┴────────────┴───────────────────┘\n"
      ]
     },
     "metadata": {},
     "output_type": "display_data"
    },
    {
     "data": {
      "text/html": [
       "<pre style=\"white-space:pre;overflow-x:auto;line-height:normal;font-family:Menlo,'DejaVu Sans Mono',consolas,'Courier New',monospace\"><span style=\"font-weight: bold\"> Total params: </span><span style=\"color: #00af00; text-decoration-color: #00af00\">351,489</span> (1.34 MB)\n",
       "</pre>\n"
      ],
      "text/plain": [
       "\u001b[1m Total params: \u001b[0m\u001b[38;5;34m351,489\u001b[0m (1.34 MB)\n"
      ]
     },
     "metadata": {},
     "output_type": "display_data"
    },
    {
     "data": {
      "text/html": [
       "<pre style=\"white-space:pre;overflow-x:auto;line-height:normal;font-family:Menlo,'DejaVu Sans Mono',consolas,'Courier New',monospace\"><span style=\"font-weight: bold\"> Trainable params: </span><span style=\"color: #00af00; text-decoration-color: #00af00\">351,489</span> (1.34 MB)\n",
       "</pre>\n"
      ],
      "text/plain": [
       "\u001b[1m Trainable params: \u001b[0m\u001b[38;5;34m351,489\u001b[0m (1.34 MB)\n"
      ]
     },
     "metadata": {},
     "output_type": "display_data"
    },
    {
     "data": {
      "text/html": [
       "<pre style=\"white-space:pre;overflow-x:auto;line-height:normal;font-family:Menlo,'DejaVu Sans Mono',consolas,'Courier New',monospace\"><span style=\"font-weight: bold\"> Non-trainable params: </span><span style=\"color: #00af00; text-decoration-color: #00af00\">0</span> (0.00 B)\n",
       "</pre>\n"
      ],
      "text/plain": [
       "\u001b[1m Non-trainable params: \u001b[0m\u001b[38;5;34m0\u001b[0m (0.00 B)\n"
      ]
     },
     "metadata": {},
     "output_type": "display_data"
    },
    {
     "name": "stdout",
     "output_type": "stream",
     "text": [
      "Epoch 1/10\n",
      "\u001b[1m693/693\u001b[0m \u001b[32m━━━━━━━━━━━━━━━━━━━━\u001b[0m\u001b[37m\u001b[0m \u001b[1m27s\u001b[0m 38ms/step - loss: 15143336960.0000 - mape_tf: 99.2742 - val_loss: 13493368832.0000 - val_mape_tf: 91.7672\n",
      "Epoch 2/10\n",
      "\u001b[1m693/693\u001b[0m \u001b[32m━━━━━━━━━━━━━━━━━━━━\u001b[0m\u001b[37m\u001b[0m \u001b[1m27s\u001b[0m 39ms/step - loss: 12901306368.0000 - mape_tf: 85.4362 - val_loss: 8420563968.0000 - val_mape_tf: 64.4089\n",
      "Epoch 3/10\n",
      "\u001b[1m693/693\u001b[0m \u001b[32m━━━━━━━━━━━━━━━━━━━━\u001b[0m\u001b[37m\u001b[0m \u001b[1m28s\u001b[0m 40ms/step - loss: 7156320768.0000 - mape_tf: 62.6655 - val_loss: 3591724800.0000 - val_mape_tf: 65.2763\n",
      "Epoch 4/10\n",
      "\u001b[1m693/693\u001b[0m \u001b[32m━━━━━━━━━━━━━━━━━━━━\u001b[0m\u001b[37m\u001b[0m \u001b[1m28s\u001b[0m 40ms/step - loss: 3179756544.0000 - mape_tf: 69.9276 - val_loss: 1516584576.0000 - val_mape_tf: 78.5956\n",
      "Epoch 5/10\n",
      "\u001b[1m693/693\u001b[0m \u001b[32m━━━━━━━━━━━━━━━━━━━━\u001b[0m\u001b[37m\u001b[0m \u001b[1m27s\u001b[0m 39ms/step - loss: 1457669632.0000 - mape_tf: 83.0021 - val_loss: 812050368.0000 - val_mape_tf: 85.9486\n",
      "Epoch 6/10\n",
      "\u001b[1m693/693\u001b[0m \u001b[32m━━━━━━━━━━━━━━━━━━━━\u001b[0m\u001b[37m\u001b[0m \u001b[1m27s\u001b[0m 39ms/step - loss: 946723200.0000 - mape_tf: 88.2760 - val_loss: 517663200.0000 - val_mape_tf: 88.7968\n",
      "Epoch 7/10\n",
      "\u001b[1m693/693\u001b[0m \u001b[32m━━━━━━━━━━━━━━━━━━━━\u001b[0m\u001b[37m\u001b[0m \u001b[1m27s\u001b[0m 39ms/step - loss: 668408576.0000 - mape_tf: 90.9265 - val_loss: 358893248.0000 - val_mape_tf: 90.8949\n",
      "Epoch 8/10\n",
      "\u001b[1m693/693\u001b[0m \u001b[32m━━━━━━━━━━━━━━━━━━━━\u001b[0m\u001b[37m\u001b[0m \u001b[1m27s\u001b[0m 39ms/step - loss: 554898752.0000 - mape_tf: 92.3490 - val_loss: 283228704.0000 - val_mape_tf: 90.8451\n",
      "Epoch 9/10\n",
      "\u001b[1m693/693\u001b[0m \u001b[32m━━━━━━━━━━━━━━━━━━━━\u001b[0m\u001b[37m\u001b[0m \u001b[1m27s\u001b[0m 39ms/step - loss: 479534528.0000 - mape_tf: 93.8491 - val_loss: 246187520.0000 - val_mape_tf: 91.5110\n",
      "Epoch 10/10\n",
      "\u001b[1m693/693\u001b[0m \u001b[32m━━━━━━━━━━━━━━━━━━━━\u001b[0m\u001b[37m\u001b[0m \u001b[1m27s\u001b[0m 39ms/step - loss: 449331744.0000 - mape_tf: 93.5050 - val_loss: 228419776.0000 - val_mape_tf: 91.1287\n"
     ]
    },
    {
     "data": {
      "text/plain": [
       "<keras.src.callbacks.history.History at 0x3b926cbe0>"
      ]
     },
     "execution_count": 72,
     "metadata": {},
     "output_type": "execute_result"
    }
   ],
   "source": [
    "text_data = df.select_dtypes(['object']).fillna(\"\").astype(str).agg(\" \".join, axis=1)\n",
    "num_data = df.select_dtypes(['float', 'int64']).drop(['id', 'salary', 'salary_to', 'salary_from'], axis = 1)\n",
    "num_data = num_data.fillna(num_data.mean())\n",
    "target = df[\"salary\"]\n",
    "\n",
    "\n",
    "tokenizer = Tokenizer(num_words=10000)\n",
    "tokenizer.fit_on_texts(text_data)\n",
    "sequences = tokenizer.texts_to_sequences(text_data)\n",
    "X_text = pad_sequences(sequences, maxlen=200)\n",
    "\n",
    "# X_num = num_data.to_numpy().astype(np.float32)\n",
    "scaler = StandardScaler()\n",
    "X_num = scaler.fit_transform(num_data)\n",
    "y = target.to_numpy().astype(np.float32)\n",
    "\n",
    "scaler = StandardScaler()\n",
    "X_num = scaler.fit_transform(num_data)\n",
    "\n",
    "X_text_train, X_text_test, X_num_train, X_num_test, y_train, y_test = train_test_split(\n",
    "    X_text, X_num, y, test_size=0.2, random_state=42\n",
    ")\n",
    "\n",
    "text_input = Input(shape=(200,), name=\"text_input\")\n",
    "x_text = Embedding(input_dim=10000, output_dim=32)(text_input)\n",
    "x_text = LSTM(64)(x_text)\n",
    "\n",
    "num_input = Input(shape=(X_num.shape[1],), name=\"num_input\")\n",
    "x_num = Dense(32, activation=\"relu\")(num_input)\n",
    "\n",
    "x = concatenate([x_text, x_num])\n",
    "x = Dense(64, activation=\"relu\")(x)\n",
    "x = Dropout(0.3)(x)\n",
    "output = Dense(1)(x)  \n",
    "\n",
    "model = Model(inputs=[text_input, num_input], outputs=output)\n",
    "model.compile(optimizer=\"adam\", loss=\"mse\", metrics=[mape_tf])  # кастомная метрика\n",
    "\n",
    "model.summary()\n",
    "\n",
    "# Обучение\n",
    "model.fit(\n",
    "    {\"text_input\": X_text_train, \"num_input\": X_num_train},\n",
    "    y_train,\n",
    "    validation_data=(\n",
    "        {\"text_input\": X_text_test, \"num_input\": X_num_test},\n",
    "        y_test\n",
    "    ),\n",
    "    epochs=10,\n",
    "    batch_size=32\n",
    ")\n"
   ]
  },
  {
   "cell_type": "code",
   "execution_count": 73,
   "id": "3e4e813b",
   "metadata": {},
   "outputs": [
    {
     "data": {
      "text/html": [
       "<pre style=\"white-space:pre;overflow-x:auto;line-height:normal;font-family:Menlo,'DejaVu Sans Mono',consolas,'Courier New',monospace\"><span style=\"font-weight: bold\">Model: \"functional_9\"</span>\n",
       "</pre>\n"
      ],
      "text/plain": [
       "\u001b[1mModel: \"functional_9\"\u001b[0m\n"
      ]
     },
     "metadata": {},
     "output_type": "display_data"
    },
    {
     "data": {
      "text/html": [
       "<pre style=\"white-space:pre;overflow-x:auto;line-height:normal;font-family:Menlo,'DejaVu Sans Mono',consolas,'Courier New',monospace\">┏━━━━━━━━━━━━━━━━━━━━━┳━━━━━━━━━━━━━━━━━━━┳━━━━━━━━━━━━┳━━━━━━━━━━━━━━━━━━━┓\n",
       "┃<span style=\"font-weight: bold\"> Layer (type)        </span>┃<span style=\"font-weight: bold\"> Output Shape      </span>┃<span style=\"font-weight: bold\">    Param # </span>┃<span style=\"font-weight: bold\"> Connected to      </span>┃\n",
       "┡━━━━━━━━━━━━━━━━━━━━━╇━━━━━━━━━━━━━━━━━━━╇━━━━━━━━━━━━╇━━━━━━━━━━━━━━━━━━━┩\n",
       "│ text_input          │ (<span style=\"color: #00d7ff; text-decoration-color: #00d7ff\">None</span>, <span style=\"color: #00af00; text-decoration-color: #00af00\">200</span>)       │          <span style=\"color: #00af00; text-decoration-color: #00af00\">0</span> │ -                 │\n",
       "│ (<span style=\"color: #0087ff; text-decoration-color: #0087ff\">InputLayer</span>)        │                   │            │                   │\n",
       "├─────────────────────┼───────────────────┼────────────┼───────────────────┤\n",
       "│ embedding_9         │ (<span style=\"color: #00d7ff; text-decoration-color: #00d7ff\">None</span>, <span style=\"color: #00af00; text-decoration-color: #00af00\">200</span>, <span style=\"color: #00af00; text-decoration-color: #00af00\">32</span>)   │    <span style=\"color: #00af00; text-decoration-color: #00af00\">320,000</span> │ text_input[<span style=\"color: #00af00; text-decoration-color: #00af00\">0</span>][<span style=\"color: #00af00; text-decoration-color: #00af00\">0</span>]  │\n",
       "│ (<span style=\"color: #0087ff; text-decoration-color: #0087ff\">Embedding</span>)         │                   │            │                   │\n",
       "├─────────────────────┼───────────────────┼────────────┼───────────────────┤\n",
       "│ num_input           │ (<span style=\"color: #00d7ff; text-decoration-color: #00d7ff\">None</span>, <span style=\"color: #00af00; text-decoration-color: #00af00\">1</span>)         │          <span style=\"color: #00af00; text-decoration-color: #00af00\">0</span> │ -                 │\n",
       "│ (<span style=\"color: #0087ff; text-decoration-color: #0087ff\">InputLayer</span>)        │                   │            │                   │\n",
       "├─────────────────────┼───────────────────┼────────────┼───────────────────┤\n",
       "│ lstm_9 (<span style=\"color: #0087ff; text-decoration-color: #0087ff\">LSTM</span>)       │ (<span style=\"color: #00d7ff; text-decoration-color: #00d7ff\">None</span>, <span style=\"color: #00af00; text-decoration-color: #00af00\">64</span>)        │     <span style=\"color: #00af00; text-decoration-color: #00af00\">24,832</span> │ embedding_9[<span style=\"color: #00af00; text-decoration-color: #00af00\">0</span>][<span style=\"color: #00af00; text-decoration-color: #00af00\">0</span>] │\n",
       "├─────────────────────┼───────────────────┼────────────┼───────────────────┤\n",
       "│ dense_27 (<span style=\"color: #0087ff; text-decoration-color: #0087ff\">Dense</span>)    │ (<span style=\"color: #00d7ff; text-decoration-color: #00d7ff\">None</span>, <span style=\"color: #00af00; text-decoration-color: #00af00\">32</span>)        │         <span style=\"color: #00af00; text-decoration-color: #00af00\">64</span> │ num_input[<span style=\"color: #00af00; text-decoration-color: #00af00\">0</span>][<span style=\"color: #00af00; text-decoration-color: #00af00\">0</span>]   │\n",
       "├─────────────────────┼───────────────────┼────────────┼───────────────────┤\n",
       "│ concatenate_9       │ (<span style=\"color: #00d7ff; text-decoration-color: #00d7ff\">None</span>, <span style=\"color: #00af00; text-decoration-color: #00af00\">96</span>)        │          <span style=\"color: #00af00; text-decoration-color: #00af00\">0</span> │ lstm_9[<span style=\"color: #00af00; text-decoration-color: #00af00\">0</span>][<span style=\"color: #00af00; text-decoration-color: #00af00\">0</span>],     │\n",
       "│ (<span style=\"color: #0087ff; text-decoration-color: #0087ff\">Concatenate</span>)       │                   │            │ dense_27[<span style=\"color: #00af00; text-decoration-color: #00af00\">0</span>][<span style=\"color: #00af00; text-decoration-color: #00af00\">0</span>]    │\n",
       "├─────────────────────┼───────────────────┼────────────┼───────────────────┤\n",
       "│ dense_28 (<span style=\"color: #0087ff; text-decoration-color: #0087ff\">Dense</span>)    │ (<span style=\"color: #00d7ff; text-decoration-color: #00d7ff\">None</span>, <span style=\"color: #00af00; text-decoration-color: #00af00\">64</span>)        │      <span style=\"color: #00af00; text-decoration-color: #00af00\">6,208</span> │ concatenate_9[<span style=\"color: #00af00; text-decoration-color: #00af00\">0</span>]… │\n",
       "├─────────────────────┼───────────────────┼────────────┼───────────────────┤\n",
       "│ dropout_9 (<span style=\"color: #0087ff; text-decoration-color: #0087ff\">Dropout</span>) │ (<span style=\"color: #00d7ff; text-decoration-color: #00d7ff\">None</span>, <span style=\"color: #00af00; text-decoration-color: #00af00\">64</span>)        │          <span style=\"color: #00af00; text-decoration-color: #00af00\">0</span> │ dense_28[<span style=\"color: #00af00; text-decoration-color: #00af00\">0</span>][<span style=\"color: #00af00; text-decoration-color: #00af00\">0</span>]    │\n",
       "├─────────────────────┼───────────────────┼────────────┼───────────────────┤\n",
       "│ dense_29 (<span style=\"color: #0087ff; text-decoration-color: #0087ff\">Dense</span>)    │ (<span style=\"color: #00d7ff; text-decoration-color: #00d7ff\">None</span>, <span style=\"color: #00af00; text-decoration-color: #00af00\">1</span>)         │         <span style=\"color: #00af00; text-decoration-color: #00af00\">65</span> │ dropout_9[<span style=\"color: #00af00; text-decoration-color: #00af00\">0</span>][<span style=\"color: #00af00; text-decoration-color: #00af00\">0</span>]   │\n",
       "└─────────────────────┴───────────────────┴────────────┴───────────────────┘\n",
       "</pre>\n"
      ],
      "text/plain": [
       "┏━━━━━━━━━━━━━━━━━━━━━┳━━━━━━━━━━━━━━━━━━━┳━━━━━━━━━━━━┳━━━━━━━━━━━━━━━━━━━┓\n",
       "┃\u001b[1m \u001b[0m\u001b[1mLayer (type)       \u001b[0m\u001b[1m \u001b[0m┃\u001b[1m \u001b[0m\u001b[1mOutput Shape     \u001b[0m\u001b[1m \u001b[0m┃\u001b[1m \u001b[0m\u001b[1m   Param #\u001b[0m\u001b[1m \u001b[0m┃\u001b[1m \u001b[0m\u001b[1mConnected to     \u001b[0m\u001b[1m \u001b[0m┃\n",
       "┡━━━━━━━━━━━━━━━━━━━━━╇━━━━━━━━━━━━━━━━━━━╇━━━━━━━━━━━━╇━━━━━━━━━━━━━━━━━━━┩\n",
       "│ text_input          │ (\u001b[38;5;45mNone\u001b[0m, \u001b[38;5;34m200\u001b[0m)       │          \u001b[38;5;34m0\u001b[0m │ -                 │\n",
       "│ (\u001b[38;5;33mInputLayer\u001b[0m)        │                   │            │                   │\n",
       "├─────────────────────┼───────────────────┼────────────┼───────────────────┤\n",
       "│ embedding_9         │ (\u001b[38;5;45mNone\u001b[0m, \u001b[38;5;34m200\u001b[0m, \u001b[38;5;34m32\u001b[0m)   │    \u001b[38;5;34m320,000\u001b[0m │ text_input[\u001b[38;5;34m0\u001b[0m][\u001b[38;5;34m0\u001b[0m]  │\n",
       "│ (\u001b[38;5;33mEmbedding\u001b[0m)         │                   │            │                   │\n",
       "├─────────────────────┼───────────────────┼────────────┼───────────────────┤\n",
       "│ num_input           │ (\u001b[38;5;45mNone\u001b[0m, \u001b[38;5;34m1\u001b[0m)         │          \u001b[38;5;34m0\u001b[0m │ -                 │\n",
       "│ (\u001b[38;5;33mInputLayer\u001b[0m)        │                   │            │                   │\n",
       "├─────────────────────┼───────────────────┼────────────┼───────────────────┤\n",
       "│ lstm_9 (\u001b[38;5;33mLSTM\u001b[0m)       │ (\u001b[38;5;45mNone\u001b[0m, \u001b[38;5;34m64\u001b[0m)        │     \u001b[38;5;34m24,832\u001b[0m │ embedding_9[\u001b[38;5;34m0\u001b[0m][\u001b[38;5;34m0\u001b[0m] │\n",
       "├─────────────────────┼───────────────────┼────────────┼───────────────────┤\n",
       "│ dense_27 (\u001b[38;5;33mDense\u001b[0m)    │ (\u001b[38;5;45mNone\u001b[0m, \u001b[38;5;34m32\u001b[0m)        │         \u001b[38;5;34m64\u001b[0m │ num_input[\u001b[38;5;34m0\u001b[0m][\u001b[38;5;34m0\u001b[0m]   │\n",
       "├─────────────────────┼───────────────────┼────────────┼───────────────────┤\n",
       "│ concatenate_9       │ (\u001b[38;5;45mNone\u001b[0m, \u001b[38;5;34m96\u001b[0m)        │          \u001b[38;5;34m0\u001b[0m │ lstm_9[\u001b[38;5;34m0\u001b[0m][\u001b[38;5;34m0\u001b[0m],     │\n",
       "│ (\u001b[38;5;33mConcatenate\u001b[0m)       │                   │            │ dense_27[\u001b[38;5;34m0\u001b[0m][\u001b[38;5;34m0\u001b[0m]    │\n",
       "├─────────────────────┼───────────────────┼────────────┼───────────────────┤\n",
       "│ dense_28 (\u001b[38;5;33mDense\u001b[0m)    │ (\u001b[38;5;45mNone\u001b[0m, \u001b[38;5;34m64\u001b[0m)        │      \u001b[38;5;34m6,208\u001b[0m │ concatenate_9[\u001b[38;5;34m0\u001b[0m]… │\n",
       "├─────────────────────┼───────────────────┼────────────┼───────────────────┤\n",
       "│ dropout_9 (\u001b[38;5;33mDropout\u001b[0m) │ (\u001b[38;5;45mNone\u001b[0m, \u001b[38;5;34m64\u001b[0m)        │          \u001b[38;5;34m0\u001b[0m │ dense_28[\u001b[38;5;34m0\u001b[0m][\u001b[38;5;34m0\u001b[0m]    │\n",
       "├─────────────────────┼───────────────────┼────────────┼───────────────────┤\n",
       "│ dense_29 (\u001b[38;5;33mDense\u001b[0m)    │ (\u001b[38;5;45mNone\u001b[0m, \u001b[38;5;34m1\u001b[0m)         │         \u001b[38;5;34m65\u001b[0m │ dropout_9[\u001b[38;5;34m0\u001b[0m][\u001b[38;5;34m0\u001b[0m]   │\n",
       "└─────────────────────┴───────────────────┴────────────┴───────────────────┘\n"
      ]
     },
     "metadata": {},
     "output_type": "display_data"
    },
    {
     "data": {
      "text/html": [
       "<pre style=\"white-space:pre;overflow-x:auto;line-height:normal;font-family:Menlo,'DejaVu Sans Mono',consolas,'Courier New',monospace\"><span style=\"font-weight: bold\"> Total params: </span><span style=\"color: #00af00; text-decoration-color: #00af00\">351,169</span> (1.34 MB)\n",
       "</pre>\n"
      ],
      "text/plain": [
       "\u001b[1m Total params: \u001b[0m\u001b[38;5;34m351,169\u001b[0m (1.34 MB)\n"
      ]
     },
     "metadata": {},
     "output_type": "display_data"
    },
    {
     "data": {
      "text/html": [
       "<pre style=\"white-space:pre;overflow-x:auto;line-height:normal;font-family:Menlo,'DejaVu Sans Mono',consolas,'Courier New',monospace\"><span style=\"font-weight: bold\"> Trainable params: </span><span style=\"color: #00af00; text-decoration-color: #00af00\">351,169</span> (1.34 MB)\n",
       "</pre>\n"
      ],
      "text/plain": [
       "\u001b[1m Trainable params: \u001b[0m\u001b[38;5;34m351,169\u001b[0m (1.34 MB)\n"
      ]
     },
     "metadata": {},
     "output_type": "display_data"
    },
    {
     "data": {
      "text/html": [
       "<pre style=\"white-space:pre;overflow-x:auto;line-height:normal;font-family:Menlo,'DejaVu Sans Mono',consolas,'Courier New',monospace\"><span style=\"font-weight: bold\"> Non-trainable params: </span><span style=\"color: #00af00; text-decoration-color: #00af00\">0</span> (0.00 B)\n",
       "</pre>\n"
      ],
      "text/plain": [
       "\u001b[1m Non-trainable params: \u001b[0m\u001b[38;5;34m0\u001b[0m (0.00 B)\n"
      ]
     },
     "metadata": {},
     "output_type": "display_data"
    },
    {
     "name": "stdout",
     "output_type": "stream",
     "text": [
      "Epoch 1/10\n",
      "\u001b[1m693/693\u001b[0m \u001b[32m━━━━━━━━━━━━━━━━━━━━\u001b[0m\u001b[37m\u001b[0m \u001b[1m26s\u001b[0m 37ms/step - loss: 14859529216.0000 - mape_tf: 99.3617 - val_loss: 13917022208.0000 - val_mape_tf: 93.3180\n",
      "Epoch 2/10\n",
      "\u001b[1m693/693\u001b[0m \u001b[32m━━━━━━━━━━━━━━━━━━━━\u001b[0m\u001b[37m\u001b[0m \u001b[1m26s\u001b[0m 37ms/step - loss: 13642586112.0000 - mape_tf: 88.1719 - val_loss: 10714537984.0000 - val_mape_tf: 66.1724\n",
      "Epoch 3/10\n",
      "\u001b[1m693/693\u001b[0m \u001b[32m━━━━━━━━━━━━━━━━━━━━\u001b[0m\u001b[37m\u001b[0m \u001b[1m26s\u001b[0m 37ms/step - loss: 10240205824.0000 - mape_tf: 58.5005 - val_loss: 6976589312.0000 - val_mape_tf: 44.0716\n",
      "Epoch 4/10\n",
      "\u001b[1m693/693\u001b[0m \u001b[32m━━━━━━━━━━━━━━━━━━━━\u001b[0m\u001b[37m\u001b[0m \u001b[1m26s\u001b[0m 38ms/step - loss: 6870162432.0000 - mape_tf: 47.2094 - val_loss: 5183003648.0000 - val_mape_tf: 57.1020\n",
      "Epoch 5/10\n",
      "\u001b[1m693/693\u001b[0m \u001b[32m━━━━━━━━━━━━━━━━━━━━\u001b[0m\u001b[37m\u001b[0m \u001b[1m26s\u001b[0m 38ms/step - loss: 5373954048.0000 - mape_tf: 61.0945 - val_loss: 3917415168.0000 - val_mape_tf: 56.0424\n",
      "Epoch 6/10\n",
      "\u001b[1m693/693\u001b[0m \u001b[32m━━━━━━━━━━━━━━━━━━━━\u001b[0m\u001b[37m\u001b[0m \u001b[1m26s\u001b[0m 38ms/step - loss: 3723106560.0000 - mape_tf: 63.2869 - val_loss: 2780381696.0000 - val_mape_tf: 70.6352\n",
      "Epoch 7/10\n",
      "\u001b[1m693/693\u001b[0m \u001b[32m━━━━━━━━━━━━━━━━━━━━\u001b[0m\u001b[37m\u001b[0m \u001b[1m26s\u001b[0m 38ms/step - loss: 2719994880.0000 - mape_tf: 72.1413 - val_loss: 2313382144.0000 - val_mape_tf: 75.9665\n",
      "Epoch 8/10\n",
      "\u001b[1m693/693\u001b[0m \u001b[32m━━━━━━━━━━━━━━━━━━━━\u001b[0m\u001b[37m\u001b[0m \u001b[1m27s\u001b[0m 39ms/step - loss: 2253770496.0000 - mape_tf: 77.9978 - val_loss: 2053466496.0000 - val_mape_tf: 77.9212\n",
      "Epoch 9/10\n",
      "\u001b[1m693/693\u001b[0m \u001b[32m━━━━━━━━━━━━━━━━━━━━\u001b[0m\u001b[37m\u001b[0m \u001b[1m26s\u001b[0m 38ms/step - loss: 1912029184.0000 - mape_tf: 80.2739 - val_loss: 1916036352.0000 - val_mape_tf: 77.4407\n",
      "Epoch 10/10\n",
      "\u001b[1m693/693\u001b[0m \u001b[32m━━━━━━━━━━━━━━━━━━━━\u001b[0m\u001b[37m\u001b[0m \u001b[1m27s\u001b[0m 39ms/step - loss: 1709227648.0000 - mape_tf: 82.1043 - val_loss: 1833780992.0000 - val_mape_tf: 75.6319\n"
     ]
    },
    {
     "data": {
      "text/plain": [
       "<keras.src.callbacks.history.History at 0x3a2ddf0a0>"
      ]
     },
     "execution_count": 73,
     "metadata": {},
     "output_type": "execute_result"
    }
   ],
   "source": [
    "text_data = df[cat_features].fillna(\"\").astype(str).agg(\" \".join, axis=1)\n",
    "num_data = df[num_features]\n",
    "num_data = num_data.fillna(num_data.mean())\n",
    "target = df[\"salary\"]\n",
    "\n",
    "\n",
    "tokenizer = Tokenizer(num_words=10000)\n",
    "tokenizer.fit_on_texts(text_data)\n",
    "sequences = tokenizer.texts_to_sequences(text_data)\n",
    "X_text = pad_sequences(sequences, maxlen=200)\n",
    "\n",
    "# X_num = num_data.to_numpy().astype(np.float32)\n",
    "scaler = StandardScaler()\n",
    "X_num = scaler.fit_transform(num_data)\n",
    "y = target.to_numpy().astype(np.float32)\n",
    "\n",
    "scaler = StandardScaler()\n",
    "X_num = scaler.fit_transform(num_data)\n",
    "\n",
    "X_text_train, X_text_test, X_num_train, X_num_test, y_train, y_test = train_test_split(\n",
    "    X_text, X_num, y, test_size=0.2, random_state=42\n",
    ")\n",
    "\n",
    "text_input = Input(shape=(200,), name=\"text_input\")\n",
    "x_text = Embedding(input_dim=10000, output_dim=32)(text_input)\n",
    "x_text = LSTM(64)(x_text)\n",
    "\n",
    "num_input = Input(shape=(X_num.shape[1],), name=\"num_input\")\n",
    "x_num = Dense(32, activation=\"relu\")(num_input)\n",
    "\n",
    "x = concatenate([x_text, x_num])\n",
    "x = Dense(64, activation=\"relu\")(x)\n",
    "x = Dropout(0.3)(x)\n",
    "output = Dense(1)(x)  \n",
    "\n",
    "model = Model(inputs=[text_input, num_input], outputs=output)\n",
    "model.compile(optimizer=\"adam\", loss=\"mse\", metrics=[mape_tf])  # кастомная метрика\n",
    "\n",
    "model.summary()\n",
    "\n",
    "# Обучение\n",
    "model.fit(\n",
    "    {\"text_input\": X_text_train, \"num_input\": X_num_train},\n",
    "    y_train,\n",
    "    validation_data=(\n",
    "        {\"text_input\": X_text_test, \"num_input\": X_num_test},\n",
    "        y_test\n",
    "    ),\n",
    "    epochs=10,\n",
    "    batch_size=32\n",
    ")\n"
   ]
  },
  {
   "cell_type": "markdown",
   "id": "e553a210-b5ff-42b2-97d1-e58e7b0dca43",
   "metadata": {},
   "source": [
    "### Выводы\n",
    "- DL-подходы не смогли по качеству превзойти нелинейные ML-модели"
   ]
  }
 ],
 "metadata": {
  "colab": {
   "provenance": []
  },
  "kernelspec": {
   "display_name": "Python 3",
   "language": "python",
   "name": "python3"
  },
  "language_info": {
   "codemirror_mode": {
    "name": "ipython",
    "version": 3
   },
   "file_extension": ".py",
   "mimetype": "text/x-python",
   "name": "python",
   "nbconvert_exporter": "python",
   "pygments_lexer": "ipython3",
   "version": "3.9.6"
  }
 },
 "nbformat": 4,
 "nbformat_minor": 5
}
