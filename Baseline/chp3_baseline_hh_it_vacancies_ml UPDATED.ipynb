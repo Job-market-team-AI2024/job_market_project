{
 "cells": [
  {
   "cell_type": "markdown",
   "id": "96d79b22",
   "metadata": {
    "colab_type": "text",
    "id": "view-in-github"
   },
   "source": [
    "<a href=\"https://colab.research.google.com/github/Job-market-team-AI2024/job_market_project/blob/main/Baseline/chp3_baseline_hh_it_vacancies_ml.ipynb\" target=\"_parent\"><img src=\"https://colab.research.google.com/assets/colab-badge.svg\" alt=\"Open In Colab\"/></a>"
   ]
  },
  {
   "cell_type": "code",
   "execution_count": 27,
   "id": "c4927d8f-82c6-4055-8784-3ac6b95011c6",
   "metadata": {
    "id": "c4927d8f-82c6-4055-8784-3ac6b95011c6"
   },
   "outputs": [],
   "source": [
    "import pandas as pd\n",
    "import seaborn as sns\n",
    "import os\n",
    "import numpy as np\n",
    "import matplotlib.pyplot as plt\n",
    "import seaborn as sns\n",
    "import requests"
   ]
  },
  {
   "cell_type": "code",
   "execution_count": 28,
   "id": "ad55ce10-c0a1-4856-b0a8-123a9150d682",
   "metadata": {
    "id": "ad55ce10-c0a1-4856-b0a8-123a9150d682"
   },
   "outputs": [],
   "source": [
    "URL_BASE = 'https://media.githubusercontent.com/media/Job-market-team-AI2024/job_market_project/refs/heads/main/data/'\n",
    "def read_database(file_name):\n",
    "    return pd.read_csv(os.path.join(URL_BASE, file_name))"
   ]
  },
  {
   "cell_type": "code",
   "execution_count": 29,
   "id": "QOH3-hW8hLHe",
   "metadata": {
    "colab": {
     "base_uri": "https://localhost:8080/",
     "height": 515
    },
    "id": "QOH3-hW8hLHe",
    "outputId": "6800d749-f1ea-4c69-94cd-65559271b9d9"
   },
   "outputs": [
    {
     "data": {
      "text/html": [
       "<div>\n",
       "<style scoped>\n",
       "    .dataframe tbody tr th:only-of-type {\n",
       "        vertical-align: middle;\n",
       "    }\n",
       "\n",
       "    .dataframe tbody tr th {\n",
       "        vertical-align: top;\n",
       "    }\n",
       "\n",
       "    .dataframe thead th {\n",
       "        text-align: right;\n",
       "    }\n",
       "</style>\n",
       "<table border=\"1\" class=\"dataframe\">\n",
       "  <thead>\n",
       "    <tr style=\"text-align: right;\">\n",
       "      <th></th>\n",
       "      <th>id</th>\n",
       "      <th>area_id</th>\n",
       "      <th>area_name</th>\n",
       "      <th>name</th>\n",
       "      <th>test_required</th>\n",
       "      <th>salary_to</th>\n",
       "      <th>salary_from</th>\n",
       "      <th>salary_gross</th>\n",
       "      <th>salary_currency</th>\n",
       "      <th>address_lat</th>\n",
       "      <th>...</th>\n",
       "      <th>accept_temporary</th>\n",
       "      <th>accept_handicapped</th>\n",
       "      <th>professional_roles_id</th>\n",
       "      <th>professional_roles_name</th>\n",
       "      <th>working_time_modes</th>\n",
       "      <th>driver_license_types</th>\n",
       "      <th>working_time_intervals</th>\n",
       "      <th>quick_responses_allowed</th>\n",
       "      <th>response_letter_required</th>\n",
       "      <th>accept_incomplete_resumes</th>\n",
       "    </tr>\n",
       "  </thead>\n",
       "  <tbody>\n",
       "    <tr>\n",
       "      <th>0</th>\n",
       "      <td>85146733</td>\n",
       "      <td>2</td>\n",
       "      <td>Санкт-Петербург</td>\n",
       "      <td>Тестировщик / QA Engineer (Junior / Middle / S...</td>\n",
       "      <td>NaN</td>\n",
       "      <td>NaN</td>\n",
       "      <td>NaN</td>\n",
       "      <td>NaN</td>\n",
       "      <td>NaN</td>\n",
       "      <td>59.984924</td>\n",
       "      <td>...</td>\n",
       "      <td>False</td>\n",
       "      <td>True</td>\n",
       "      <td>124</td>\n",
       "      <td>Тестировщик</td>\n",
       "      <td>NaN</td>\n",
       "      <td>NaN</td>\n",
       "      <td>NaN</td>\n",
       "      <td>False</td>\n",
       "      <td>False</td>\n",
       "      <td>False</td>\n",
       "    </tr>\n",
       "    <tr>\n",
       "      <th>1</th>\n",
       "      <td>87391606</td>\n",
       "      <td>1</td>\n",
       "      <td>Москва</td>\n",
       "      <td>Ведущий Системный Аналитик Kleiber.Graphics</td>\n",
       "      <td>NaN</td>\n",
       "      <td>250000.0</td>\n",
       "      <td>230000.0</td>\n",
       "      <td>False</td>\n",
       "      <td>RUR</td>\n",
       "      <td>NaN</td>\n",
       "      <td>...</td>\n",
       "      <td>False</td>\n",
       "      <td>False</td>\n",
       "      <td>148</td>\n",
       "      <td>Системный аналитик</td>\n",
       "      <td>NaN</td>\n",
       "      <td>NaN</td>\n",
       "      <td>NaN</td>\n",
       "      <td>False</td>\n",
       "      <td>False</td>\n",
       "      <td>False</td>\n",
       "    </tr>\n",
       "    <tr>\n",
       "      <th>2</th>\n",
       "      <td>85896506</td>\n",
       "      <td>79</td>\n",
       "      <td>Саратов</td>\n",
       "      <td>Бизнес-аналитик</td>\n",
       "      <td>NaN</td>\n",
       "      <td>NaN</td>\n",
       "      <td>NaN</td>\n",
       "      <td>NaN</td>\n",
       "      <td>NaN</td>\n",
       "      <td>NaN</td>\n",
       "      <td>...</td>\n",
       "      <td>False</td>\n",
       "      <td>False</td>\n",
       "      <td>10</td>\n",
       "      <td>Аналитик</td>\n",
       "      <td>NaN</td>\n",
       "      <td>NaN</td>\n",
       "      <td>NaN</td>\n",
       "      <td>False</td>\n",
       "      <td>False</td>\n",
       "      <td>False</td>\n",
       "    </tr>\n",
       "    <tr>\n",
       "      <th>3</th>\n",
       "      <td>86876446</td>\n",
       "      <td>72</td>\n",
       "      <td>Пермь</td>\n",
       "      <td>Менеджер проектов/Аккаунт-менеджер (IT сфера) ...</td>\n",
       "      <td>NaN</td>\n",
       "      <td>NaN</td>\n",
       "      <td>NaN</td>\n",
       "      <td>NaN</td>\n",
       "      <td>NaN</td>\n",
       "      <td>58.004460</td>\n",
       "      <td>...</td>\n",
       "      <td>False</td>\n",
       "      <td>False</td>\n",
       "      <td>107</td>\n",
       "      <td>Руководитель проектов</td>\n",
       "      <td>NaN</td>\n",
       "      <td>NaN</td>\n",
       "      <td>NaN</td>\n",
       "      <td>False</td>\n",
       "      <td>False</td>\n",
       "      <td>False</td>\n",
       "    </tr>\n",
       "    <tr>\n",
       "      <th>4</th>\n",
       "      <td>84560508</td>\n",
       "      <td>76</td>\n",
       "      <td>Ростов-на-Дону</td>\n",
       "      <td>Специалист службы поддержки (удаленно), Ростов...</td>\n",
       "      <td>NaN</td>\n",
       "      <td>NaN</td>\n",
       "      <td>35000.0</td>\n",
       "      <td>True</td>\n",
       "      <td>RUR</td>\n",
       "      <td>NaN</td>\n",
       "      <td>...</td>\n",
       "      <td>False</td>\n",
       "      <td>False</td>\n",
       "      <td>121</td>\n",
       "      <td>Специалист технической поддержки</td>\n",
       "      <td>NaN</td>\n",
       "      <td>NaN</td>\n",
       "      <td>NaN</td>\n",
       "      <td>False</td>\n",
       "      <td>False</td>\n",
       "      <td>False</td>\n",
       "    </tr>\n",
       "  </tbody>\n",
       "</table>\n",
       "<p>5 rows × 54 columns</p>\n",
       "</div>"
      ],
      "text/plain": [
       "         id  area_id        area_name  \\\n",
       "0  85146733        2  Санкт-Петербург   \n",
       "1  87391606        1           Москва   \n",
       "2  85896506       79          Саратов   \n",
       "3  86876446       72            Пермь   \n",
       "4  84560508       76   Ростов-на-Дону   \n",
       "\n",
       "                                                name test_required  salary_to  \\\n",
       "0  Тестировщик / QA Engineer (Junior / Middle / S...           NaN        NaN   \n",
       "1        Ведущий Системный Аналитик Kleiber.Graphics           NaN   250000.0   \n",
       "2                                    Бизнес-аналитик           NaN        NaN   \n",
       "3  Менеджер проектов/Аккаунт-менеджер (IT сфера) ...           NaN        NaN   \n",
       "4  Специалист службы поддержки (удаленно), Ростов...           NaN        NaN   \n",
       "\n",
       "   salary_from salary_gross salary_currency  address_lat  ...  \\\n",
       "0          NaN          NaN             NaN    59.984924  ...   \n",
       "1     230000.0        False             RUR          NaN  ...   \n",
       "2          NaN          NaN             NaN          NaN  ...   \n",
       "3          NaN          NaN             NaN    58.004460  ...   \n",
       "4      35000.0         True             RUR          NaN  ...   \n",
       "\n",
       "   accept_temporary accept_handicapped professional_roles_id  \\\n",
       "0             False               True                   124   \n",
       "1             False              False                   148   \n",
       "2             False              False                    10   \n",
       "3             False              False                   107   \n",
       "4             False              False                   121   \n",
       "\n",
       "            professional_roles_name working_time_modes driver_license_types  \\\n",
       "0                       Тестировщик                NaN                  NaN   \n",
       "1                Системный аналитик                NaN                  NaN   \n",
       "2                          Аналитик                NaN                  NaN   \n",
       "3             Руководитель проектов                NaN                  NaN   \n",
       "4  Специалист технической поддержки                NaN                  NaN   \n",
       "\n",
       "   working_time_intervals  quick_responses_allowed response_letter_required  \\\n",
       "0                     NaN                    False                    False   \n",
       "1                     NaN                    False                    False   \n",
       "2                     NaN                    False                    False   \n",
       "3                     NaN                    False                    False   \n",
       "4                     NaN                    False                    False   \n",
       "\n",
       "  accept_incomplete_resumes  \n",
       "0                     False  \n",
       "1                     False  \n",
       "2                     False  \n",
       "3                     False  \n",
       "4                     False  \n",
       "\n",
       "[5 rows x 54 columns]"
      ]
     },
     "execution_count": 29,
     "metadata": {},
     "output_type": "execute_result"
    }
   ],
   "source": [
    "df = read_database('IT_vacancies.csv')\n",
    "df.head()"
   ]
  },
  {
   "cell_type": "code",
   "execution_count": 30,
   "id": "b106e1f2-458e-4121-9f63-6ccb0da025ab",
   "metadata": {},
   "outputs": [
    {
     "data": {
      "text/plain": [
       "id                               0\n",
       "area_id                          0\n",
       "area_name                        0\n",
       "name                             0\n",
       "test_required                66854\n",
       "salary_to                    51222\n",
       "salary_from                  41988\n",
       "salary_gross                 38366\n",
       "salary_currency              38360\n",
       "address_lat                  33917\n",
       "address_lng                  33917\n",
       "address_raw                  33188\n",
       "address_city                 34177\n",
       "metro_line_id                52097\n",
       "metro_line_name              52097\n",
       "metro_station_name           52097\n",
       "metro_lat                    52097\n",
       "metro_lng                    52097\n",
       "address_street               35086\n",
       "address_building             36123\n",
       "count_metro_stations         31922\n",
       "metro_stations               52097\n",
       "premium                          0\n",
       "archived                         0\n",
       "employer_id                     89\n",
       "employer_name                    0\n",
       "employer_trusted                 0\n",
       "accredited_it_employer          89\n",
       "has_test                         0\n",
       "schedule                         0\n",
       "languages                    64136\n",
       "created_at                       0\n",
       "published_at                     0\n",
       "initial_created_at               0\n",
       "department                   60815\n",
       "employment                       0\n",
       "experience                       0\n",
       "key_skills                   22984\n",
       "count_key_skills                 0\n",
       "accept_kids                      0\n",
       "description                      0\n",
       "billing_type                     0\n",
       "working_days                 68457\n",
       "allow_messages                   0\n",
       "accept_temporary                 0\n",
       "accept_handicapped               0\n",
       "professional_roles_id            0\n",
       "professional_roles_name          0\n",
       "working_time_modes           67935\n",
       "driver_license_types         68666\n",
       "working_time_intervals       67106\n",
       "quick_responses_allowed          0\n",
       "response_letter_required         0\n",
       "accept_incomplete_resumes        0\n",
       "dtype: int64"
      ]
     },
     "execution_count": 30,
     "metadata": {},
     "output_type": "execute_result"
    }
   ],
   "source": [
    "df.isnull().sum()"
   ]
  },
  {
   "cell_type": "code",
   "execution_count": 31,
   "id": "a3d26685-ee3d-41f9-8680-3461752c0131",
   "metadata": {
    "id": "a3d26685-ee3d-41f9-8680-3461752c0131"
   },
   "outputs": [],
   "source": [
    "def area_transform(entry):\n",
    "    areas_dict = {}\n",
    "    areas_dict[entry['id']] = {'name': entry['name'], 'parent_id': entry['parent_id']}\n",
    "    for area in entry['areas']:\n",
    "        areas_dict.update(area_transform(area))\n",
    "    return areas_dict\n",
    "\n",
    "def area_region(area_id, areas_dict):\n",
    "    if areas_dict[area_id]['parent_id'] is None or areas_dict[areas_dict[area_id]['parent_id']]['parent_id'] is None:\n",
    "        return areas_dict[area_id]['name']\n",
    "    else:\n",
    "        return areas_dict[areas_dict[area_id]['parent_id']]['name']\n",
    "\n",
    "def area_country(area_id, areas_dict):\n",
    "    while areas_dict[area_id]['parent_id'] is not None:\n",
    "        area_id = areas_dict[area_id]['parent_id']\n",
    "    return areas_dict[area_id]['name']"
   ]
  },
  {
   "cell_type": "code",
   "execution_count": 32,
   "id": "efd6e660-8612-409f-a2f3-5ff58069ca79",
   "metadata": {
    "id": "efd6e660-8612-409f-a2f3-5ff58069ca79"
   },
   "outputs": [],
   "source": [
    "areas = requests.get('https://api.hh.ru/areas').json()\n",
    "\n",
    "areas_dict = {}\n",
    "\n",
    "for area in areas:\n",
    "    areas_dict.update(area_transform(area))"
   ]
  },
  {
   "cell_type": "code",
   "execution_count": 33,
   "id": "bd227810-7d24-4bdb-8180-4fa6a7ed2914",
   "metadata": {
    "id": "bd227810-7d24-4bdb-8180-4fa6a7ed2914"
   },
   "outputs": [],
   "source": [
    "df['region_name'] = df['area_id'].apply(lambda x: area_region(str(x), areas_dict))\n",
    "df['country_name'] = df['area_id'].apply(lambda x: area_country(str(x), areas_dict))"
   ]
  },
  {
   "cell_type": "code",
   "execution_count": 34,
   "id": "6dbf62e0-f502-4de2-b7ab-a21ed3017563",
   "metadata": {
    "id": "6dbf62e0-f502-4de2-b7ab-a21ed3017563"
   },
   "outputs": [],
   "source": [
    "product = ['product','продуктовый','продакт','продукта']\n",
    "project = ['project','проектов','проектный','проекта']\n",
    "data = ['data','дата','данных']\n",
    "bi = ['bi','би','визуализация']\n",
    "system = ['system','системный']\n",
    "business = ['business','бизнес']\n",
    "design = ['graphic','web','графический','веб']\n",
    "technical = ['qa','по','программного обеспечения','1C','1С','технический','technical','информационной безопасности']\n",
    "support = ['поддержки','поддержка','support']\n",
    "field = [\n",
    "    (\"product\", product)\n",
    "    ,(\"project\", project)\n",
    "    ,(\"data\", data)\n",
    "    ,(\"bi\", bi)\n",
    "    ,(\"business\", business)\n",
    "    ,(\"system\", system)\n",
    "    ,(\"technical\", technical)\n",
    "    ,(\"support\", support)\n",
    "    ,(\"design\", design)\n",
    "    ]\n",
    "\n",
    "engineer = ['engineer','инженер']\n",
    "developer = ['developer','разработчик','программист','архитектор','architect','devops','mlops','разработка','разработку','программирование']\n",
    "scientist = ['scientist','science','саенс']\n",
    "analyst = ['analyst','analysis','analytics','аналитик']\n",
    "consultant = ['consultant','консультант','технолог']\n",
    "manager = ['manager','lead','owner','менеджер','лид','руководитель','руководителя','оунэр','оунер','coordinator','координатор','директор','director','владелец','начальник','chief']\n",
    "designer = ['design','designer','дизайн','дизайнер','artist','художник']\n",
    "tester = ['тестировщик','qa','автоматизатор тестирования','tester']\n",
    "specialist = ['specialist','operator','support','специалист','оператор','писатель','мастер','эксперт','поддержки','поддержка']\n",
    "admin = ['администратор']\n",
    "role = [\n",
    "    (\"developer\", developer)\n",
    "    ,(\"scientist\", scientist)\n",
    "    ,(\"analyst\", analyst)\n",
    "    ,(\"consultant\", consultant)\n",
    "    ,(\"manager\", manager)\n",
    "    ,(\"tester\", tester)\n",
    "    ,(\"engineer\", engineer)\n",
    "    ,(\"specialist\", specialist)\n",
    "    ,(\"designer\", designer)\n",
    "    ,(\"admin\", admin)\n",
    "    ]\n",
    "\n",
    "intern = ['intern', 'стажер']\n",
    "junior = ['junior', 'младший']\n",
    "middle = ['middle', 'ведущий']\n",
    "senior = ['senior', 'старший']\n",
    "lead = ['lead', 'руководитель', 'начальник']\n",
    "grade = [\n",
    "    (\"intern\", intern)\n",
    "    ,(\"junior\", junior)\n",
    "    ,(\"middle\", middle)\n",
    "    ,(\"senior\", senior)\n",
    "    ,(\"lead\", lead)\n",
    "    ]"
   ]
  },
  {
   "cell_type": "code",
   "execution_count": 35,
   "id": "20c588c7-2b8b-4c2e-9f2e-58766ddfa41b",
   "metadata": {
    "id": "20c588c7-2b8b-4c2e-9f2e-58766ddfa41b"
   },
   "outputs": [],
   "source": [
    "def find_categories(name, categories):\n",
    "    result = []\n",
    "    for category, elements in categories:\n",
    "        if any(el.lower() in name.lower() for el in elements):\n",
    "            result.append(category)\n",
    "    return result"
   ]
  },
  {
   "cell_type": "code",
   "execution_count": 36,
   "id": "2aae16d4-2604-474e-a80f-b8ec0442bb72",
   "metadata": {
    "colab": {
     "base_uri": "https://localhost:8080/",
     "height": 763
    },
    "id": "2aae16d4-2604-474e-a80f-b8ec0442bb72",
    "outputId": "83651b11-d53c-4dbb-c226-52407ef2c335"
   },
   "outputs": [
    {
     "data": {
      "text/html": [
       "<div>\n",
       "<style scoped>\n",
       "    .dataframe tbody tr th:only-of-type {\n",
       "        vertical-align: middle;\n",
       "    }\n",
       "\n",
       "    .dataframe tbody tr th {\n",
       "        vertical-align: top;\n",
       "    }\n",
       "\n",
       "    .dataframe thead th {\n",
       "        text-align: right;\n",
       "    }\n",
       "</style>\n",
       "<table border=\"1\" class=\"dataframe\">\n",
       "  <thead>\n",
       "    <tr style=\"text-align: right;\">\n",
       "      <th></th>\n",
       "      <th>name</th>\n",
       "      <th>fields</th>\n",
       "      <th>roles</th>\n",
       "      <th>grades</th>\n",
       "      <th>field</th>\n",
       "      <th>role</th>\n",
       "      <th>grade</th>\n",
       "    </tr>\n",
       "  </thead>\n",
       "  <tbody>\n",
       "    <tr>\n",
       "      <th>0</th>\n",
       "      <td>Тестировщик / QA Engineer (Junior / Middle / S...</td>\n",
       "      <td>[technical]</td>\n",
       "      <td>[tester, engineer]</td>\n",
       "      <td>[junior, middle, senior]</td>\n",
       "      <td>technical</td>\n",
       "      <td>tester</td>\n",
       "      <td>junior</td>\n",
       "    </tr>\n",
       "    <tr>\n",
       "      <th>1</th>\n",
       "      <td>Ведущий Системный Аналитик Kleiber.Graphics</td>\n",
       "      <td>[system, design]</td>\n",
       "      <td>[analyst]</td>\n",
       "      <td>[middle]</td>\n",
       "      <td>system</td>\n",
       "      <td>analyst</td>\n",
       "      <td>middle</td>\n",
       "    </tr>\n",
       "    <tr>\n",
       "      <th>2</th>\n",
       "      <td>Бизнес-аналитик</td>\n",
       "      <td>[bi, business]</td>\n",
       "      <td>[analyst]</td>\n",
       "      <td>[]</td>\n",
       "      <td>bi</td>\n",
       "      <td>analyst</td>\n",
       "      <td>other</td>\n",
       "    </tr>\n",
       "    <tr>\n",
       "      <th>3</th>\n",
       "      <td>Менеджер проектов/Аккаунт-менеджер (IT сфера) ...</td>\n",
       "      <td>[project]</td>\n",
       "      <td>[manager]</td>\n",
       "      <td>[]</td>\n",
       "      <td>project</td>\n",
       "      <td>manager</td>\n",
       "      <td>other</td>\n",
       "    </tr>\n",
       "    <tr>\n",
       "      <th>4</th>\n",
       "      <td>Специалист службы поддержки (удаленно), Ростов...</td>\n",
       "      <td>[technical, support]</td>\n",
       "      <td>[specialist]</td>\n",
       "      <td>[]</td>\n",
       "      <td>technical</td>\n",
       "      <td>specialist</td>\n",
       "      <td>other</td>\n",
       "    </tr>\n",
       "    <tr>\n",
       "      <th>5</th>\n",
       "      <td>Программист 1С (1С УТ 11.5 и УТ 10.3)</td>\n",
       "      <td>[technical]</td>\n",
       "      <td>[developer]</td>\n",
       "      <td>[]</td>\n",
       "      <td>technical</td>\n",
       "      <td>developer</td>\n",
       "      <td>other</td>\n",
       "    </tr>\n",
       "    <tr>\n",
       "      <th>6</th>\n",
       "      <td>Тестировщик сайтов / помощник SEO специалиста</td>\n",
       "      <td>[technical]</td>\n",
       "      <td>[tester, specialist]</td>\n",
       "      <td>[]</td>\n",
       "      <td>technical</td>\n",
       "      <td>tester</td>\n",
       "      <td>other</td>\n",
       "    </tr>\n",
       "    <tr>\n",
       "      <th>7</th>\n",
       "      <td>Менеджер по сопровождению клиентов</td>\n",
       "      <td>[technical]</td>\n",
       "      <td>[manager]</td>\n",
       "      <td>[]</td>\n",
       "      <td>technical</td>\n",
       "      <td>manager</td>\n",
       "      <td>other</td>\n",
       "    </tr>\n",
       "    <tr>\n",
       "      <th>8</th>\n",
       "      <td>Младший системный администратор</td>\n",
       "      <td>[system]</td>\n",
       "      <td>[admin]</td>\n",
       "      <td>[junior]</td>\n",
       "      <td>system</td>\n",
       "      <td>admin</td>\n",
       "      <td>junior</td>\n",
       "    </tr>\n",
       "    <tr>\n",
       "      <th>9</th>\n",
       "      <td>Руководитель отдела программирования (Reverse ...</td>\n",
       "      <td>[]</td>\n",
       "      <td>[manager, engineer]</td>\n",
       "      <td>[lead]</td>\n",
       "      <td>other</td>\n",
       "      <td>manager</td>\n",
       "      <td>lead</td>\n",
       "    </tr>\n",
       "    <tr>\n",
       "      <th>10</th>\n",
       "      <td>Стажер - разработчик 1С</td>\n",
       "      <td>[technical]</td>\n",
       "      <td>[developer]</td>\n",
       "      <td>[intern]</td>\n",
       "      <td>technical</td>\n",
       "      <td>developer</td>\n",
       "      <td>intern</td>\n",
       "    </tr>\n",
       "    <tr>\n",
       "      <th>11</th>\n",
       "      <td>React программист</td>\n",
       "      <td>[]</td>\n",
       "      <td>[developer]</td>\n",
       "      <td>[]</td>\n",
       "      <td>other</td>\n",
       "      <td>developer</td>\n",
       "      <td>other</td>\n",
       "    </tr>\n",
       "    <tr>\n",
       "      <th>12</th>\n",
       "      <td>Senior Python backend разработчик, удалённо</td>\n",
       "      <td>[]</td>\n",
       "      <td>[developer]</td>\n",
       "      <td>[senior]</td>\n",
       "      <td>other</td>\n",
       "      <td>developer</td>\n",
       "      <td>senior</td>\n",
       "    </tr>\n",
       "    <tr>\n",
       "      <th>13</th>\n",
       "      <td>Менеджер по автоматизации</td>\n",
       "      <td>[technical]</td>\n",
       "      <td>[manager]</td>\n",
       "      <td>[]</td>\n",
       "      <td>technical</td>\n",
       "      <td>manager</td>\n",
       "      <td>other</td>\n",
       "    </tr>\n",
       "    <tr>\n",
       "      <th>14</th>\n",
       "      <td>Аналитик по работе с маркетплейсами</td>\n",
       "      <td>[technical]</td>\n",
       "      <td>[analyst]</td>\n",
       "      <td>[]</td>\n",
       "      <td>technical</td>\n",
       "      <td>analyst</td>\n",
       "      <td>other</td>\n",
       "    </tr>\n",
       "    <tr>\n",
       "      <th>15</th>\n",
       "      <td>Graphic Designer / Графический дизайнер</td>\n",
       "      <td>[design]</td>\n",
       "      <td>[designer]</td>\n",
       "      <td>[]</td>\n",
       "      <td>design</td>\n",
       "      <td>designer</td>\n",
       "      <td>other</td>\n",
       "    </tr>\n",
       "    <tr>\n",
       "      <th>16</th>\n",
       "      <td>Разработчик Backend</td>\n",
       "      <td>[]</td>\n",
       "      <td>[developer]</td>\n",
       "      <td>[]</td>\n",
       "      <td>other</td>\n",
       "      <td>developer</td>\n",
       "      <td>other</td>\n",
       "    </tr>\n",
       "    <tr>\n",
       "      <th>17</th>\n",
       "      <td>Дизайнер</td>\n",
       "      <td>[]</td>\n",
       "      <td>[designer]</td>\n",
       "      <td>[]</td>\n",
       "      <td>other</td>\n",
       "      <td>designer</td>\n",
       "      <td>other</td>\n",
       "    </tr>\n",
       "    <tr>\n",
       "      <th>18</th>\n",
       "      <td>Руководитель проекта по системам связи и систе...</td>\n",
       "      <td>[project, technical]</td>\n",
       "      <td>[manager]</td>\n",
       "      <td>[lead]</td>\n",
       "      <td>project</td>\n",
       "      <td>manager</td>\n",
       "      <td>lead</td>\n",
       "    </tr>\n",
       "    <tr>\n",
       "      <th>19</th>\n",
       "      <td>Системный администратор</td>\n",
       "      <td>[system]</td>\n",
       "      <td>[admin]</td>\n",
       "      <td>[]</td>\n",
       "      <td>system</td>\n",
       "      <td>admin</td>\n",
       "      <td>other</td>\n",
       "    </tr>\n",
       "  </tbody>\n",
       "</table>\n",
       "</div>"
      ],
      "text/plain": [
       "                                                 name                fields  \\\n",
       "0   Тестировщик / QA Engineer (Junior / Middle / S...           [technical]   \n",
       "1         Ведущий Системный Аналитик Kleiber.Graphics      [system, design]   \n",
       "2                                     Бизнес-аналитик        [bi, business]   \n",
       "3   Менеджер проектов/Аккаунт-менеджер (IT сфера) ...             [project]   \n",
       "4   Специалист службы поддержки (удаленно), Ростов...  [technical, support]   \n",
       "5               Программист 1С (1С УТ 11.5 и УТ 10.3)           [technical]   \n",
       "6       Тестировщик сайтов / помощник SEO специалиста           [technical]   \n",
       "7                  Менеджер по сопровождению клиентов           [technical]   \n",
       "8                     Младший системный администратор              [system]   \n",
       "9   Руководитель отдела программирования (Reverse ...                    []   \n",
       "10                            Стажер - разработчик 1С           [technical]   \n",
       "11                                  React программист                    []   \n",
       "12        Senior Python backend разработчик, удалённо                    []   \n",
       "13                          Менеджер по автоматизации           [technical]   \n",
       "14                Аналитик по работе с маркетплейсами           [technical]   \n",
       "15            Graphic Designer / Графический дизайнер              [design]   \n",
       "16                                Разработчик Backend                    []   \n",
       "17                                           Дизайнер                    []   \n",
       "18  Руководитель проекта по системам связи и систе...  [project, technical]   \n",
       "19                            Системный администратор              [system]   \n",
       "\n",
       "                   roles                    grades      field        role  \\\n",
       "0     [tester, engineer]  [junior, middle, senior]  technical      tester   \n",
       "1              [analyst]                  [middle]     system     analyst   \n",
       "2              [analyst]                        []         bi     analyst   \n",
       "3              [manager]                        []    project     manager   \n",
       "4           [specialist]                        []  technical  specialist   \n",
       "5            [developer]                        []  technical   developer   \n",
       "6   [tester, specialist]                        []  technical      tester   \n",
       "7              [manager]                        []  technical     manager   \n",
       "8                [admin]                  [junior]     system       admin   \n",
       "9    [manager, engineer]                    [lead]      other     manager   \n",
       "10           [developer]                  [intern]  technical   developer   \n",
       "11           [developer]                        []      other   developer   \n",
       "12           [developer]                  [senior]      other   developer   \n",
       "13             [manager]                        []  technical     manager   \n",
       "14             [analyst]                        []  technical     analyst   \n",
       "15            [designer]                        []     design    designer   \n",
       "16           [developer]                        []      other   developer   \n",
       "17            [designer]                        []      other    designer   \n",
       "18             [manager]                    [lead]    project     manager   \n",
       "19               [admin]                        []     system       admin   \n",
       "\n",
       "     grade  \n",
       "0   junior  \n",
       "1   middle  \n",
       "2    other  \n",
       "3    other  \n",
       "4    other  \n",
       "5    other  \n",
       "6    other  \n",
       "7    other  \n",
       "8   junior  \n",
       "9     lead  \n",
       "10  intern  \n",
       "11   other  \n",
       "12  senior  \n",
       "13   other  \n",
       "14   other  \n",
       "15   other  \n",
       "16   other  \n",
       "17   other  \n",
       "18    lead  \n",
       "19   other  "
      ]
     },
     "execution_count": 36,
     "metadata": {},
     "output_type": "execute_result"
    }
   ],
   "source": [
    "df['fields'] = df['name'].apply(lambda x: find_categories(x, field))\n",
    "df['roles'] = df['name'].apply(lambda x: find_categories(x, role))\n",
    "df['grades'] = df['name'].apply(lambda x: find_categories(x, grade))\n",
    "df['field'] = df['fields'].apply(lambda x: x[0] if x else 'other')\n",
    "df['role'] = df['roles'].apply(lambda x: x[0] if x else 'other')\n",
    "df['grade'] = df['grades'].apply(lambda x: x[0] if x else 'other')\n",
    "df[['name', 'fields', 'roles', 'grades', 'field', 'role', 'grade']].head(20)"
   ]
  },
  {
   "cell_type": "code",
   "execution_count": 37,
   "id": "b012e368-e67c-49fd-8bf7-db3cc862fac4",
   "metadata": {
    "id": "b012e368-e67c-49fd-8bf7-db3cc862fac4"
   },
   "outputs": [],
   "source": [
    "df['key_skills'] = df['key_skills'][~df['key_skills'].isnull()].str[1:-1].apply(lambda x: x.replace('\"', '').lower().split(','))\n",
    "df['key_skills'] = df['key_skills'].apply(lambda x: x if type(x) == list else [])"
   ]
  },
  {
   "cell_type": "code",
   "execution_count": 38,
   "id": "ca97b6b6-9cb6-4e22-922e-5d876c072c4e",
   "metadata": {
    "scrolled": true
   },
   "outputs": [],
   "source": [
    "df['descr_len'] = df['description'].apply(len)"
   ]
  },
  {
   "cell_type": "code",
   "execution_count": 39,
   "id": "2c9b8780-e7a6-440c-a44b-41feed378a94",
   "metadata": {
    "id": "2c9b8780-e7a6-440c-a44b-41feed378a94"
   },
   "outputs": [],
   "source": [
    "df['salary'] = df[['salary_from', 'salary_to']].mean(axis=1)"
   ]
  },
  {
   "cell_type": "code",
   "execution_count": 40,
   "id": "434b3c34-1e71-43c3-990a-da61bf5fb983",
   "metadata": {
    "colab": {
     "base_uri": "https://localhost:8080/"
    },
    "id": "434b3c34-1e71-43c3-990a-da61bf5fb983",
    "outputId": "affe2d64-03f9-4081-95a0-fbb0c3ab1600"
   },
   "outputs": [
    {
     "name": "stdout",
     "output_type": "stream",
     "text": [
      "Значений после удаления выбросов: 0.999\n"
     ]
    }
   ],
   "source": [
    "### добавил удаление слишком маленьких зп (неправдоподобно маленьких)\n",
    "\n",
    "df = df[~df['salary'].isnull()]\n",
    "df = df[df['salary_currency'] == 'RUR']\n",
    "df = df[df['country_name'] == 'Россия']\n",
    "old = df.shape[0]\n",
    "df = df[(df['salary'] > 10000)] #np.quantile(df['salary'],0.005))]\n",
    "new = df.shape[0]\n",
    "print(f'Значений после удаления выбросов: {(new/old):.3f}')"
   ]
  },
  {
   "cell_type": "code",
   "execution_count": 41,
   "id": "PyqGbcetaD6C",
   "metadata": {
    "colab": {
     "base_uri": "https://localhost:8080/",
     "height": 560
    },
    "id": "PyqGbcetaD6C",
    "outputId": "88803a96-6379-47d6-ce71-7caf317aa890"
   },
   "outputs": [
    {
     "data": {
      "image/png": "[encoded data removed]",
      "text/plain": [
       "<Figure size 1200x600 with 2 Axes>"
      ]
     },
     "metadata": {},
     "output_type": "display_data"
    }
   ],
   "source": [
    "### для лучшей работы линейных моделей нам хорошо бы логарифмировать таргет\n",
    "### но логарифмирование таргета портит нам интерпретацию коэфов в линейных моделях каж\n",
    "### Если захотим оценить важность признаков и вклад в таргет\n",
    "### то можем сделать PermutationImportance + Shapely Values\n",
    "### Заодно сможем сравнить с более сложными моделями\n",
    "\n",
    "df['log_salary'] = np.log(df['salary'])\n",
    "fig, axes = plt.subplots(1,2, figsize = (12,6))\n",
    "axes[0].hist(df['salary'], bins=30, color='skyblue', edgecolor='black')\n",
    "axes[0].set_title('Salary Distribution')\n",
    "axes[0].set_xlabel('Salary')\n",
    "axes[0].set_ylabel('Frequency')\n",
    "\n",
    "axes[1].hist(df['log_salary'], bins=30, color='lightgreen', edgecolor='black')\n",
    "axes[1].set_title('Log-Transformed Salary Distribution')\n",
    "axes[1].set_xlabel('Log(Salary)')\n",
    "axes[1].set_ylabel('Frequency')\n",
    "\n",
    "plt.tight_layout()\n",
    "plt.show()"
   ]
  },
  {
   "cell_type": "markdown",
   "id": "LYWsWwsACKlV",
   "metadata": {
    "id": "LYWsWwsACKlV"
   },
   "source": [
    "### Про метрики\n",
    "\n",
    "Хотим использовать\n",
    "1. MAPE\n",
    "2. Доля предсказаний в интервале n% от реального таргета (по дефолту берем 10%)\n",
    "\n",
    "Почему **MAPE**\n",
    "1. ошибка в 10к рублей, когда зп 50к и когда 500к очень по-разному ощущается для кандидата, поэтому метрика нужна такая, что предсказыавет относительную ошибку\n",
    "2. несимметричная метрика, как раз недопрогнозы хотим штрафовать меньше, чем перепрогнозы\n",
    "3. достойно работает с выбросами в рублях (так как благодаря рублю у нас все зп в десятках тысячах и отличаются в пределе 1-2 порядков)\n",
    "   - совсем маленькие неправдоподобные мы фильтруем (где мы будем во много раз перепрогнозировать)\n",
    "   - на больших выбросах модель сделает недопрогнох скорее всего. MAPE на объекте будет до 100%. При делении на объем выборки будет совсем незаметно\n",
    "\n",
    "Почему **Доля предсказаний в интервале n% от реального таргета**\n",
    "1. нам важно, в какой доле объектов мы ошиблись в пределах разумного (не только в среднем минимизируем ошибку, но чтобы пользователь мог доверять прогнозам, которые мы выдаем на конкретных объектах-вакансиях)\n",
    "\n",
    "П.с.\n",
    "1. Чем меньше MAPE, тем лучше (ошибка)\n",
    "2. Чем больше доля предсказаний в интервале, тем лучше (точность)\n"
   ]
  },
  {
   "cell_type": "code",
   "execution_count": 42,
   "id": "rdGQZNpMnTw5",
   "metadata": {
    "id": "rdGQZNpMnTw5"
   },
   "outputs": [],
   "source": [
    "def MAPE(y_true, y_pred):\n",
    "  \"\"\"\n",
    "  Compute Mean Absolute Percentage Error (MAPE)\n",
    "\n",
    "  Input:\n",
    "  y_true (array-like): Actual target values\n",
    "  y_pred (array-like): Predicted target values\n",
    "\n",
    "  Returns:\n",
    "  float: MAPE as a percentage\n",
    "  \"\"\"\n",
    "  y_true = np.array(y_true)\n",
    "  y_pred = np.array(y_pred)\n",
    "\n",
    "  ### избегаем нули, чтобы корректно отработало\n",
    "  non_zero_mask = y_true != 0\n",
    "  percentage_errors = np.abs((y_true[non_zero_mask] - y_pred[non_zero_mask]) / y_true[non_zero_mask])\n",
    "  return np.mean(percentage_errors) * 100"
   ]
  },
  {
   "cell_type": "code",
   "execution_count": 56,
   "id": "0korJYT--pPn",
   "metadata": {
    "id": "0korJYT--pPn"
   },
   "outputs": [],
   "source": [
    "def share_within_indifference_interval(y_true, y_pred, percentage):\n",
    "  \"\"\"\n",
    "  Share of predicted targets within percentage interval of true targets\n",
    "\n",
    "  Input:\n",
    "  y_true (array-like): Actual target values\n",
    "  y_pred (array-like): Predicted target values\n",
    "\n",
    "  Returns:\n",
    "  float: Share as percentage\n",
    "  \"\"\"\n",
    "  x = (y_pred - y_true) / y_true\n",
    "  return ((x <= percentage / 100) & (x >= -percentage / 100)).mean() * 100"
   ]
  },
  {
   "cell_type": "code",
   "execution_count": 57,
   "id": "IvhV8gJR5Ck7",
   "metadata": {
    "id": "IvhV8gJR5Ck7"
   },
   "outputs": [],
   "source": [
    "from sklearn.model_selection import train_test_split\n",
    "\n",
    "X = df.drop(['salary_from','salary_to', 'salary','log_salary'], axis = 1)\n",
    "X = X[\n",
    "[\n",
    "    'area_name', 'accredited_it_employer', 'schedule', 'employment', 'experience', \n",
    "    'count_key_skills', 'descr_len', 'professional_roles_name', 'field', 'role', 'grade'\n",
    "]\n",
    "]\n",
    "X['accredited_it_employer'] = X['accredited_it_employer'].fillna(0).astype(int)\n",
    "\n",
    "y = df['salary']"
   ]
  },
  {
   "cell_type": "code",
   "execution_count": 58,
   "id": "0cb65fac-757f-444b-8db7-7b109eae3d57",
   "metadata": {},
   "outputs": [],
   "source": [
    "X_train, X_test, y_train, y_test = train_test_split(X, y, test_size=0.25, random_state=42)"
   ]
  },
  {
   "cell_type": "markdown",
   "id": "gXYZt4UH5VWb",
   "metadata": {
    "id": "gXYZt4UH5VWb"
   },
   "source": [
    "### Оцениваем качество среднего и медианы"
   ]
  },
  {
   "cell_type": "code",
   "execution_count": 59,
   "id": "a-xRRhuY5QUI",
   "metadata": {
    "colab": {
     "base_uri": "https://localhost:8080/"
    },
    "id": "a-xRRhuY5QUI",
    "outputId": "bdeb4fd0-5b41-489b-e8a2-77784eae465b"
   },
   "outputs": [
    {
     "name": "stdout",
     "output_type": "stream",
     "text": [
      "Среднее: MAPE на тесте = 78.10%\n",
      "Среднее: Доля близко угаданных зп на тесте = 10.16%\n",
      "\n",
      "Медиана: MAPE на тесте = 56.76%\n",
      "Медиана: Доля близко угаданных зп на тесте = 8.89%\n"
     ]
    }
   ],
   "source": [
    "mean = np.mean(y_train)\n",
    "median = np.median(y_train)\n",
    "y_test_pred_mean = [mean for _ in y_test]\n",
    "y_test_pred_median = [median for _ in y_test]\n",
    "indiff_percentage = 10\n",
    "\n",
    "print(f'Среднее: MAPE на тесте = {MAPE(y_test, y_test_pred_mean):.2f}%')\n",
    "print(f'Среднее: Доля близко угаданных зп на тесте = {share_within_indifference_interval(y_test, y_test_pred_mean, indiff_percentage):.2f}%')\n",
    "print()\n",
    "print(f'Медиана: MAPE на тесте = {MAPE(y_test, y_test_pred_median):.2f}%')\n",
    "print(f'Медиана: Доля близко угаданных зп на тесте = {share_within_indifference_interval(y_test, y_test_pred_median, indiff_percentage):.2f}%')"
   ]
  },
  {
   "cell_type": "markdown",
   "id": "09YyULt85qyo",
   "metadata": {
    "id": "09YyULt85qyo"
   },
   "source": [
    "### Оцениваем качество простого линрега по вещественными признакам с нормализовацией\n",
    "(пропуски заполнены средними)"
   ]
  },
  {
   "cell_type": "code",
   "execution_count": 60,
   "id": "6456689a-cd4a-40d5-b34f-29b163429a41",
   "metadata": {},
   "outputs": [],
   "source": [
    "from sklearn.impute import SimpleImputer\n",
    "from sklearn.preprocessing import StandardScaler, OneHotEncoder\n",
    "from sklearn.compose import ColumnTransformer\n",
    "from sklearn.pipeline import Pipeline\n",
    "from sklearn.linear_model import LinearRegression\n",
    "\n",
    "categorical_features = ['area_name', 'schedule', 'employment', 'experience', 'professional_roles_name', 'field', 'role', 'grade']\n",
    "numerical_features = ['count_key_skills', 'descr_len']\n",
    "\n",
    "preprocessor = ColumnTransformer(\n",
    "    transformers=[\n",
    "        ('cat', OneHotEncoder(drop='first', handle_unknown='ignore'), categorical_features),\n",
    "        ('num', StandardScaler(), numerical_features)\n",
    "    ],\n",
    "    remainder='passthrough'\n",
    ")\n",
    "\n",
    "pipeline = Pipeline(steps=[\n",
    "    ('preprocessor', preprocessor),\n",
    "    ('regressor', LinearRegression())\n",
    "])"
   ]
  },
  {
   "cell_type": "code",
   "execution_count": 62,
   "id": "M-jRt80yBdNI",
   "metadata": {
    "colab": {
     "base_uri": "https://localhost:8080/"
    },
    "id": "M-jRt80yBdNI",
    "outputId": "0080a90c-139b-478f-f753-b21b6a0cc3bd"
   },
   "outputs": [
    {
     "name": "stdout",
     "output_type": "stream",
     "text": [
      "Линрег по таргету: MAPE на тесте = 39.60%\n",
      "Линрег по таргету: Доля близко угаданных зп на тесте = 19.73%\n"
     ]
    },
    {
     "name": "stderr",
     "output_type": "stream",
     "text": [
      "C:\\Users\\user\\anaconda3\\Lib\\site-packages\\sklearn\\preprocessing\\_encoders.py:241: UserWarning: Found unknown categories in columns [0] during transform. These unknown categories will be encoded as all zeros\n",
      "  warnings.warn(\n"
     ]
    }
   ],
   "source": [
    "pipeline.fit(X_train, y_train)\n",
    "y_test_pred = pipeline.predict(X_test)\n",
    "\n",
    "print(f'Линрег по таргету: MAPE на тесте = {MAPE(y_test, y_test_pred):.2f}%')\n",
    "print(f'Линрег по таргету: Доля близко угаданных зп на тесте = {share_within_indifference_interval(y_test, y_test_pred, indiff_percentage):.2f}%')"
   ]
  },
  {
   "cell_type": "code",
   "execution_count": 61,
   "id": "T1-7eqj_9DAs",
   "metadata": {
    "colab": {
     "base_uri": "https://localhost:8080/"
    },
    "id": "T1-7eqj_9DAs",
    "outputId": "df676015-e481-49f9-d135-29fc2112a7fc"
   },
   "outputs": [
    {
     "name": "stdout",
     "output_type": "stream",
     "text": [
      "Линрег по логтаргету: MAPE на тесте = 30.97%\n",
      "Линрег по логтаргету: Доля близко угаданных зп на тесте = 23.13%\n"
     ]
    },
    {
     "name": "stderr",
     "output_type": "stream",
     "text": [
      "C:\\Users\\user\\anaconda3\\Lib\\site-packages\\sklearn\\preprocessing\\_encoders.py:241: UserWarning: Found unknown categories in columns [0] during transform. These unknown categories will be encoded as all zeros\n",
      "  warnings.warn(\n"
     ]
    }
   ],
   "source": [
    "pipeline.fit(X_train, np.log(y_train))\n",
    "y_test_pred = np.exp(pipeline.predict(X_test))\n",
    "\n",
    "print(f'Линрег по логтаргету: MAPE на тесте = {MAPE(y_test, y_test_pred):.2f}%')\n",
    "print(f'Линрег по логтаргету: Доля близко угаданных зп на тесте = {share_within_indifference_interval(y_test, y_test_pred, indiff_percentage):.2f}%')"
   ]
  },
  {
   "cell_type": "code",
   "execution_count": null,
   "id": "a700c3b9-a57f-45c7-8615-033b0ae59163",
   "metadata": {},
   "outputs": [],
   "source": [
    "import joblib\n",
    "\n",
    "joblib.dump(pipeline, 'jobmarket_model.pkl')"
   ]
  }
 ],
 "metadata": {
  "colab": {
   "include_colab_link": true,
   "provenance": []
  },
  "kernelspec": {
   "display_name": "Python 3 (ipykernel)",
   "language": "python",
   "name": "python3"
  },
  "language_info": {
   "codemirror_mode": {
    "name": "ipython",
    "version": 3
   },
   "file_extension": ".py",
   "mimetype": "text/x-python",
   "name": "python",
   "nbconvert_exporter": "python",
   "pygments_lexer": "ipython3",
   "version": "3.12.4"
  }
 },
 "nbformat": 4,
 "nbformat_minor": 5
}
